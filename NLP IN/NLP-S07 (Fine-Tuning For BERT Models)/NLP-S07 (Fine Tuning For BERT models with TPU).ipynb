{
  "cells": [
    {
      "cell_type": "markdown",
      "metadata": {
        "id": "Z3hO1LT4m8xM"
      },
      "source": [
        "# Fine Tuning For BERT Models with TPU"
      ]
    },
    {
      "cell_type": "markdown",
      "source": [
        "###Arka uç atanamadı\n",
        "\n",
        "TPU kullanan arka uçlardan hiçbiri boşta değil. Hızlandırıcısı olmayan bir çalışma zamanı kullanmak ister misiniz?\n",
        "\n",
        "Yukarıdaki uyarıyı alırsanız. İptal butonuna tıklayın ve 2-3 dakikaya bir aşağıdaki hücreyi tekrar çalıştırın."
      ],
      "metadata": {
        "id": "ceaBKTihhnyo"
      }
    },
    {
      "cell_type": "code",
      "execution_count": null,
      "metadata": {
        "id": "uuM1yGIv3C7Q",
        "colab": {
          "base_uri": "https://localhost:8080/"
        },
        "outputId": "8beb4193-45e1-4f95-f0fb-8085187790a8"
      },
      "outputs": [
        {
          "output_type": "stream",
          "name": "stdout",
          "text": [
            "All devices:  [LogicalDevice(name='/job:worker/replica:0/task:0/device:TPU:0', device_type='TPU'), LogicalDevice(name='/job:worker/replica:0/task:0/device:TPU:1', device_type='TPU'), LogicalDevice(name='/job:worker/replica:0/task:0/device:TPU:2', device_type='TPU'), LogicalDevice(name='/job:worker/replica:0/task:0/device:TPU:3', device_type='TPU'), LogicalDevice(name='/job:worker/replica:0/task:0/device:TPU:4', device_type='TPU'), LogicalDevice(name='/job:worker/replica:0/task:0/device:TPU:5', device_type='TPU'), LogicalDevice(name='/job:worker/replica:0/task:0/device:TPU:6', device_type='TPU'), LogicalDevice(name='/job:worker/replica:0/task:0/device:TPU:7', device_type='TPU')]\n"
          ]
        }
      ],
      "source": [
        "import tensorflow as tf\n",
        "import os\n",
        "\n",
        "# Note that the `tpu` argument is for Colab-only\n",
        "resolver = tf.distribute.cluster_resolver.TPUClusterResolver(tpu='grpc://' + os.environ['COLAB_TPU_ADDR'])\n",
        "\n",
        "tf.config.experimental_connect_to_cluster(resolver)\n",
        "tf.tpu.experimental.initialize_tpu_system(resolver)\n",
        "print(\"All devices: \", tf.config.list_logical_devices('TPU'))"
      ]
    },
    {
      "cell_type": "code",
      "source": [
        "strategy = tf.distribute.TPUStrategy(resolver)\n",
        "\n",
        "# TPU çekirdeklerinin hızından faydalanabilmek için öncelikle bu çekirdekleri tahsis ediyor ve strategy değişkenine atıyoruz."
      ],
      "metadata": {
        "id": "V80qmNdlhP1a"
      },
      "execution_count": null,
      "outputs": []
    },
    {
      "cell_type": "code",
      "source": [
        "from google.colab import drive\n",
        "drive.mount('/content/drive')"
      ],
      "metadata": {
        "colab": {
          "base_uri": "https://localhost:8080/"
        },
        "id": "lhD9niRaGkSq",
        "outputId": "b0380f8f-a30f-428f-d27c-f6636026d324"
      },
      "execution_count": null,
      "outputs": [
        {
          "output_type": "stream",
          "name": "stdout",
          "text": [
            "Mounted at /content/drive\n"
          ]
        }
      ]
    },
    {
      "cell_type": "code",
      "execution_count": null,
      "metadata": {
        "colab": {
          "base_uri": "https://localhost:8080/"
        },
        "id": "_skoAhjLmF0E",
        "outputId": "2e39f341-52b0-419e-c9a3-89dc69677d20"
      },
      "outputs": [
        {
          "output_type": "stream",
          "name": "stdout",
          "text": [
            "Looking in indexes: https://pypi.org/simple, https://us-python.pkg.dev/colab-wheels/public/simple/\n",
            "Collecting transformers\n",
            "  Downloading transformers-4.26.0-py3-none-any.whl (6.3 MB)\n",
            "\u001b[2K     \u001b[90m━━━━━━━━━━━━━━━━━━━━━━━━━━━━━━━━━━━━━━━━\u001b[0m \u001b[32m6.3/6.3 MB\u001b[0m \u001b[31m39.0 MB/s\u001b[0m eta \u001b[36m0:00:00\u001b[0m\n",
            "\u001b[?25hCollecting huggingface-hub<1.0,>=0.11.0\n",
            "  Downloading huggingface_hub-0.12.0-py3-none-any.whl (190 kB)\n",
            "\u001b[2K     \u001b[90m━━━━━━━━━━━━━━━━━━━━━━━━━━━━━━━━━━━━━━\u001b[0m \u001b[32m190.3/190.3 KB\u001b[0m \u001b[31m18.9 MB/s\u001b[0m eta \u001b[36m0:00:00\u001b[0m\n",
            "\u001b[?25hRequirement already satisfied: pyyaml>=5.1 in /usr/local/lib/python3.8/dist-packages (from transformers) (6.0)\n",
            "Collecting tokenizers!=0.11.3,<0.14,>=0.11.1\n",
            "  Downloading tokenizers-0.13.2-cp38-cp38-manylinux_2_17_x86_64.manylinux2014_x86_64.whl (7.6 MB)\n",
            "\u001b[2K     \u001b[90m━━━━━━━━━━━━━━━━━━━━━━━━━━━━━━━━━━━━━━━━\u001b[0m \u001b[32m7.6/7.6 MB\u001b[0m \u001b[31m59.2 MB/s\u001b[0m eta \u001b[36m0:00:00\u001b[0m\n",
            "\u001b[?25hRequirement already satisfied: tqdm>=4.27 in /usr/local/lib/python3.8/dist-packages (from transformers) (4.64.1)\n",
            "Requirement already satisfied: filelock in /usr/local/lib/python3.8/dist-packages (from transformers) (3.9.0)\n",
            "Requirement already satisfied: packaging>=20.0 in /usr/local/lib/python3.8/dist-packages (from transformers) (23.0)\n",
            "Requirement already satisfied: regex!=2019.12.17 in /usr/local/lib/python3.8/dist-packages (from transformers) (2022.6.2)\n",
            "Requirement already satisfied: numpy>=1.17 in /usr/local/lib/python3.8/dist-packages (from transformers) (1.21.6)\n",
            "Requirement already satisfied: requests in /usr/local/lib/python3.8/dist-packages (from transformers) (2.25.1)\n",
            "Requirement already satisfied: typing-extensions>=3.7.4.3 in /usr/local/lib/python3.8/dist-packages (from huggingface-hub<1.0,>=0.11.0->transformers) (4.4.0)\n",
            "Requirement already satisfied: idna<3,>=2.5 in /usr/local/lib/python3.8/dist-packages (from requests->transformers) (2.10)\n",
            "Requirement already satisfied: chardet<5,>=3.0.2 in /usr/local/lib/python3.8/dist-packages (from requests->transformers) (4.0.0)\n",
            "Requirement already satisfied: urllib3<1.27,>=1.21.1 in /usr/local/lib/python3.8/dist-packages (from requests->transformers) (1.24.3)\n",
            "Requirement already satisfied: certifi>=2017.4.17 in /usr/local/lib/python3.8/dist-packages (from requests->transformers) (2022.12.7)\n",
            "Installing collected packages: tokenizers, huggingface-hub, transformers\n",
            "Successfully installed huggingface-hub-0.12.0 tokenizers-0.13.2 transformers-4.26.0\n"
          ]
        }
      ],
      "source": [
        "!pip install transformers\n",
        "# BERT transformerslar üzerine kurulu olduğundan BERT modelleri kullanabilmek için transformersları install ediyoruz öncelikle."
      ]
    },
    {
      "cell_type": "code",
      "execution_count": null,
      "metadata": {
        "id": "KwjqS75AeE-w"
      },
      "outputs": [],
      "source": []
    },
    {
      "cell_type": "markdown",
      "metadata": {
        "id": "FDDYcyvBeFmA"
      },
      "source": [
        "## Import Library"
      ]
    },
    {
      "cell_type": "code",
      "execution_count": null,
      "metadata": {
        "id": "UVecSUbKq_si"
      },
      "outputs": [],
      "source": [
        "import numpy as np\n",
        "import pandas as pd\n",
        "import warnings\n",
        "warnings.filterwarnings('ignore')"
      ]
    },
    {
      "cell_type": "code",
      "execution_count": null,
      "metadata": {
        "id": "Vhy2dT_aq_f4"
      },
      "outputs": [],
      "source": [
        "df = pd.read_csv('/content/drive/MyDrive/hepsiburada.zip', encoding=\"utf-8\")"
      ]
    },
    {
      "cell_type": "code",
      "execution_count": null,
      "metadata": {
        "colab": {
          "base_uri": "https://localhost:8080/",
          "height": 206
        },
        "id": "f3qQ6RJ0q_R4",
        "outputId": "7bdd1382-9989-44d8-9d1c-708f0ef2cd82"
      },
      "outputs": [
        {
          "output_type": "execute_result",
          "data": {
            "text/plain": [
              "   Rating                                             Review\n",
              "0       1                            3 yıldır tık demedi. :)\n",
              "1       1                      3 yıldır kullanıyorum müthiş \n",
              "2       1  Ürün bugün elime geçti çok fazla inceleme fırs...\n",
              "3       1  Almaya karar verdim. Hemencecik geldi. Keyifle...\n",
              "4       1  Günlük kullanımınızı çok çok iyi karsılıyor kı..."
            ],
            "text/html": [
              "\n",
              "  <div id=\"df-04e3f718-2cb0-4c51-b5af-66a860e21bbc\">\n",
              "    <div class=\"colab-df-container\">\n",
              "      <div>\n",
              "<style scoped>\n",
              "    .dataframe tbody tr th:only-of-type {\n",
              "        vertical-align: middle;\n",
              "    }\n",
              "\n",
              "    .dataframe tbody tr th {\n",
              "        vertical-align: top;\n",
              "    }\n",
              "\n",
              "    .dataframe thead th {\n",
              "        text-align: right;\n",
              "    }\n",
              "</style>\n",
              "<table border=\"1\" class=\"dataframe\">\n",
              "  <thead>\n",
              "    <tr style=\"text-align: right;\">\n",
              "      <th></th>\n",
              "      <th>Rating</th>\n",
              "      <th>Review</th>\n",
              "    </tr>\n",
              "  </thead>\n",
              "  <tbody>\n",
              "    <tr>\n",
              "      <th>0</th>\n",
              "      <td>1</td>\n",
              "      <td>3 yıldır tık demedi. :)</td>\n",
              "    </tr>\n",
              "    <tr>\n",
              "      <th>1</th>\n",
              "      <td>1</td>\n",
              "      <td>3 yıldır kullanıyorum müthiş</td>\n",
              "    </tr>\n",
              "    <tr>\n",
              "      <th>2</th>\n",
              "      <td>1</td>\n",
              "      <td>Ürün bugün elime geçti çok fazla inceleme fırs...</td>\n",
              "    </tr>\n",
              "    <tr>\n",
              "      <th>3</th>\n",
              "      <td>1</td>\n",
              "      <td>Almaya karar verdim. Hemencecik geldi. Keyifle...</td>\n",
              "    </tr>\n",
              "    <tr>\n",
              "      <th>4</th>\n",
              "      <td>1</td>\n",
              "      <td>Günlük kullanımınızı çok çok iyi karsılıyor kı...</td>\n",
              "    </tr>\n",
              "  </tbody>\n",
              "</table>\n",
              "</div>\n",
              "      <button class=\"colab-df-convert\" onclick=\"convertToInteractive('df-04e3f718-2cb0-4c51-b5af-66a860e21bbc')\"\n",
              "              title=\"Convert this dataframe to an interactive table.\"\n",
              "              style=\"display:none;\">\n",
              "        \n",
              "  <svg xmlns=\"http://www.w3.org/2000/svg\" height=\"24px\"viewBox=\"0 0 24 24\"\n",
              "       width=\"24px\">\n",
              "    <path d=\"M0 0h24v24H0V0z\" fill=\"none\"/>\n",
              "    <path d=\"M18.56 5.44l.94 2.06.94-2.06 2.06-.94-2.06-.94-.94-2.06-.94 2.06-2.06.94zm-11 1L8.5 8.5l.94-2.06 2.06-.94-2.06-.94L8.5 2.5l-.94 2.06-2.06.94zm10 10l.94 2.06.94-2.06 2.06-.94-2.06-.94-.94-2.06-.94 2.06-2.06.94z\"/><path d=\"M17.41 7.96l-1.37-1.37c-.4-.4-.92-.59-1.43-.59-.52 0-1.04.2-1.43.59L10.3 9.45l-7.72 7.72c-.78.78-.78 2.05 0 2.83L4 21.41c.39.39.9.59 1.41.59.51 0 1.02-.2 1.41-.59l7.78-7.78 2.81-2.81c.8-.78.8-2.07 0-2.86zM5.41 20L4 18.59l7.72-7.72 1.47 1.35L5.41 20z\"/>\n",
              "  </svg>\n",
              "      </button>\n",
              "      \n",
              "  <style>\n",
              "    .colab-df-container {\n",
              "      display:flex;\n",
              "      flex-wrap:wrap;\n",
              "      gap: 12px;\n",
              "    }\n",
              "\n",
              "    .colab-df-convert {\n",
              "      background-color: #E8F0FE;\n",
              "      border: none;\n",
              "      border-radius: 50%;\n",
              "      cursor: pointer;\n",
              "      display: none;\n",
              "      fill: #1967D2;\n",
              "      height: 32px;\n",
              "      padding: 0 0 0 0;\n",
              "      width: 32px;\n",
              "    }\n",
              "\n",
              "    .colab-df-convert:hover {\n",
              "      background-color: #E2EBFA;\n",
              "      box-shadow: 0px 1px 2px rgba(60, 64, 67, 0.3), 0px 1px 3px 1px rgba(60, 64, 67, 0.15);\n",
              "      fill: #174EA6;\n",
              "    }\n",
              "\n",
              "    [theme=dark] .colab-df-convert {\n",
              "      background-color: #3B4455;\n",
              "      fill: #D2E3FC;\n",
              "    }\n",
              "\n",
              "    [theme=dark] .colab-df-convert:hover {\n",
              "      background-color: #434B5C;\n",
              "      box-shadow: 0px 1px 3px 1px rgba(0, 0, 0, 0.15);\n",
              "      filter: drop-shadow(0px 1px 2px rgba(0, 0, 0, 0.3));\n",
              "      fill: #FFFFFF;\n",
              "    }\n",
              "  </style>\n",
              "\n",
              "      <script>\n",
              "        const buttonEl =\n",
              "          document.querySelector('#df-04e3f718-2cb0-4c51-b5af-66a860e21bbc button.colab-df-convert');\n",
              "        buttonEl.style.display =\n",
              "          google.colab.kernel.accessAllowed ? 'block' : 'none';\n",
              "\n",
              "        async function convertToInteractive(key) {\n",
              "          const element = document.querySelector('#df-04e3f718-2cb0-4c51-b5af-66a860e21bbc');\n",
              "          const dataTable =\n",
              "            await google.colab.kernel.invokeFunction('convertToInteractive',\n",
              "                                                     [key], {});\n",
              "          if (!dataTable) return;\n",
              "\n",
              "          const docLinkHtml = 'Like what you see? Visit the ' +\n",
              "            '<a target=\"_blank\" href=https://colab.research.google.com/notebooks/data_table.ipynb>data table notebook</a>'\n",
              "            + ' to learn more about interactive tables.';\n",
              "          element.innerHTML = '';\n",
              "          dataTable['output_type'] = 'display_data';\n",
              "          await google.colab.output.renderOutput(dataTable, element);\n",
              "          const docLink = document.createElement('div');\n",
              "          docLink.innerHTML = docLinkHtml;\n",
              "          element.appendChild(docLink);\n",
              "        }\n",
              "      </script>\n",
              "    </div>\n",
              "  </div>\n",
              "  "
            ]
          },
          "metadata": {},
          "execution_count": 7
        }
      ],
      "source": [
        "df.head()"
      ]
    },
    {
      "cell_type": "code",
      "execution_count": null,
      "metadata": {
        "colab": {
          "base_uri": "https://localhost:8080/"
        },
        "id": "CKG2ol0COCu2",
        "outputId": "39c74bcc-68bc-4528-c0b9-a8f89f6e3b3d"
      },
      "outputs": [
        {
          "output_type": "execute_result",
          "data": {
            "text/plain": [
              "1    229821\n",
              "0     13676\n",
              "Name: Rating, dtype: int64"
            ]
          },
          "metadata": {},
          "execution_count": 8
        }
      ],
      "source": [
        "df.Rating.value_counts()"
      ]
    },
    {
      "cell_type": "code",
      "source": [
        "df.Rating.value_counts(normalize=True)"
      ],
      "metadata": {
        "colab": {
          "base_uri": "https://localhost:8080/"
        },
        "id": "b868SbA6G0sy",
        "outputId": "7af1ee91-60a9-413d-96b9-d41c28a7138e"
      },
      "execution_count": null,
      "outputs": [
        {
          "output_type": "execute_result",
          "data": {
            "text/plain": [
              "1    0.943835\n",
              "0    0.056165\n",
              "Name: Rating, dtype: float64"
            ]
          },
          "metadata": {},
          "execution_count": 9
        }
      ]
    },
    {
      "cell_type": "code",
      "execution_count": null,
      "metadata": {
        "id": "yCQNvYfHOCga"
      },
      "outputs": [],
      "source": [
        "df.Rating = df.Rating.map({1:0, 0:1})\n",
        "\n",
        "# hedef labelımızı 1 yapıyoruz."
      ]
    },
    {
      "cell_type": "code",
      "execution_count": null,
      "metadata": {
        "id": "fNZYGlzIHvY7"
      },
      "outputs": [],
      "source": [
        "X = df['Review'].values\n",
        "y = df['Rating'].values"
      ]
    },
    {
      "cell_type": "markdown",
      "source": [
        "## Train Test Split"
      ],
      "metadata": {
        "id": "niBysB1sag4U"
      }
    },
    {
      "cell_type": "code",
      "source": [
        "from sklearn.model_selection import train_test_split\n",
        "\n",
        "X_train, X_test, y_train, y_test = train_test_split(X, y, test_size=0.1, stratify=y, random_state=42)"
      ],
      "metadata": {
        "id": "bDF4SJOdaeUo"
      },
      "execution_count": null,
      "outputs": []
    },
    {
      "cell_type": "markdown",
      "source": [
        "### Tokenization Example For BERT\n",
        "\n",
        "https://huggingface.co/dbmdz/bert-base-turkish-uncased"
      ],
      "metadata": {
        "id": "Y7dAVSq7TIdk"
      }
    },
    {
      "cell_type": "code",
      "source": [
        "from transformers import AutoTokenizer\n",
        "\n",
        "tokenizer = AutoTokenizer.from_pretrained(\"dbmdz/bert-base-turkish-uncased\")\n",
        "\n",
        "# Yukarıya linkini bıraktığım huggingface bert türk linkinden tokenizer ve model kurma işlemlemleri için gerekli olan kodları aynen\n",
        "# alıp burada kullanabiliyoruz. \n",
        "# Tokenizer işlemleri için kullanacağımız kodu tokenizer diye bir değişkene atıyoruz."
      ],
      "metadata": {
        "id": "imgIIPUaTZCk",
        "colab": {
          "base_uri": "https://localhost:8080/",
          "height": 113,
          "referenced_widgets": [
            "0eac89dd169b4bc68638a7797b340664",
            "3e6aad1b9c4544f381cee0ecb7013512",
            "b7d7f67001904e1c8ae6732f8ddb977a",
            "cce7da016c664bdab39152d1cf29418a",
            "a62524ef9f4f4e77bcf053b98734a48f",
            "0e9e422306ad4476ace3081074c66743",
            "074454324947473899838de0975a9bee",
            "4c60f4e47ba349f995895fe3a4288b6c",
            "18a1b6b1b73346a5ab5d0385c5bfe69b",
            "6fb2eb2426764a31a30f732a296fcb38",
            "3b8b6c60bd9b44c891e6f1bcec14d1ee",
            "e99e603af9364bd08c6c7419d353a52a",
            "0cc038226433444292a7e33e9788af0c",
            "2e5e35521c924939bfa8aaaff98d6c42",
            "8eeaf143bb4d4b89828bb4de15273ff5",
            "01d2b4ad46e64d328e6674b724cb8e69",
            "7668f9bdafe34e96bd422e02e397f107",
            "dafa9822dc8f4f25bdaf1034293cfd7e",
            "e408871823434612a0a8992da54825db",
            "993837bcc1144cdb88237aad707b3e52",
            "03b3c644e4644aa4bb9d0bfc9fa3fa99",
            "8a21017275ff4660b491bb46101ddb59",
            "b9a882fef7024391b5f915bec0e1d00e",
            "2e46f4f9da3e4c80af0bcd02d6a196fe",
            "33b1548e307d4a5ba822068cda15af1f",
            "68b2c7b97a904027b43787d620b88d23",
            "c8838df49f2144cbb07763d1c75cc01f",
            "264eed8285e643538dc427cef2c42784",
            "fe6652f17b724e27aee50a5f1de10adc",
            "a6b33be1e6144d86b42beea5423d349e",
            "c6a62241501642a19e145280077a49f7",
            "a883b8144d7d4c418cd80e537b6e8081",
            "0282b7817ec543e494a0fa3b9c8b561d"
          ]
        },
        "outputId": "874f76eb-0c26-4964-eaa1-d340baa11b4b"
      },
      "execution_count": null,
      "outputs": [
        {
          "output_type": "display_data",
          "data": {
            "text/plain": [
              "Downloading (…)okenizer_config.json:   0%|          | 0.00/59.0 [00:00<?, ?B/s]"
            ],
            "application/vnd.jupyter.widget-view+json": {
              "version_major": 2,
              "version_minor": 0,
              "model_id": "0eac89dd169b4bc68638a7797b340664"
            }
          },
          "metadata": {}
        },
        {
          "output_type": "display_data",
          "data": {
            "text/plain": [
              "Downloading (…)lve/main/config.json:   0%|          | 0.00/385 [00:00<?, ?B/s]"
            ],
            "application/vnd.jupyter.widget-view+json": {
              "version_major": 2,
              "version_minor": 0,
              "model_id": "e99e603af9364bd08c6c7419d353a52a"
            }
          },
          "metadata": {}
        },
        {
          "output_type": "display_data",
          "data": {
            "text/plain": [
              "Downloading (…)solve/main/vocab.txt:   0%|          | 0.00/263k [00:00<?, ?B/s]"
            ],
            "application/vnd.jupyter.widget-view+json": {
              "version_major": 2,
              "version_minor": 0,
              "model_id": "b9a882fef7024391b5f915bec0e1d00e"
            }
          },
          "metadata": {}
        }
      ]
    },
    {
      "cell_type": "code",
      "source": [
        "text = \"Şentepeli Şükrü abi çok güzel bir insan?😊 9901233 #jkl()=\"\n",
        " \n",
        "tokenizer.tokenize(text)\n",
        "\n",
        "# textimizi tokenizer.tokenize() fonksiyonunun içine verdiğimizde wordpiece tokenizer işlemini uygular ve bize çıktısını döndürür. "
      ],
      "metadata": {
        "colab": {
          "base_uri": "https://localhost:8080/"
        },
        "id": "mCi_h-3ATZPQ",
        "outputId": "075cb211-ab03-43cb-fdba-1e47b8dc3547"
      },
      "execution_count": null,
      "outputs": [
        {
          "output_type": "execute_result",
          "data": {
            "text/plain": [
              "['sent',\n",
              " '##epe',\n",
              " '##li',\n",
              " 'suk',\n",
              " '##ru',\n",
              " 'abi',\n",
              " 'cok',\n",
              " 'guzel',\n",
              " 'bir',\n",
              " 'insan',\n",
              " '?',\n",
              " '😊',\n",
              " '99',\n",
              " '##0',\n",
              " '##12',\n",
              " '##33',\n",
              " '#',\n",
              " 'j',\n",
              " '##k',\n",
              " '##l',\n",
              " '(',\n",
              " ')',\n",
              " '=']"
            ]
          },
          "metadata": {},
          "execution_count": 14
        }
      ]
    },
    {
      "cell_type": "code",
      "source": [
        "sentence = \"Şentepeli Şükrü abi çok güzel bir insan?😊\"\n",
        "tokens = tokenizer.encode(sentence, add_special_tokens=True)\n",
        "print(tokens)\n",
        "print(len(tokens))\n",
        "\n",
        "# tokenizer.encode textimizi DL modellerinde olduğu gibi tokenleri numeric versiona dönüştürür.\n",
        "# Cümlenin/yorumun başlangı-[CLS] ve bitiş-[SEP] noktalarını gösteren special tokenler her texte ilave edilir.\n",
        "# Bu şekilde numeric versiona dönüştürülmüş vektöre BERT modellerinde token embeddings vektörü (input_ids) denir.\n",
        "# Ancak BERT modelleri texti sadece token embeddings vektörü olarak istemez. \n",
        "# token embeddings (input_ids), segment embeddings (token_type_ids), position embeddings (attention_mask) vektörlerine dönüştürülmüş \n",
        "# şekilde 3 ayrı vektör olarak ister.\n",
        "\n",
        "# token embedding DL modellerinde olduğu gibi tokenlerin BERT modelinin hafızasında kaçıncı token olduğu bilgisine göre numeric forma dönüştürür.\n",
        "# segment embedding translation, soru cevap, sentence similarity (cümle benzerliği) gibi tasklerde kullanılır. Örneğin translation taski için modele verilecek textin \n",
        "# hangi kısmının türkçe, hangi kısmının ingilizce olduğunu modelin anlayıp bu iki farklı text yapısı arasında tokenlerin birbirleriyle anlamsal ilişkiler kurmasını\n",
        "# sağlar. Türkçe kısmı 0'lar ile temsil edilirken ingilizce kısmı 1'lerle temsil edilir (yada tam tersi olabilir).\n",
        "# position embedding tokenlerin textin kaçıncı tokeni olduğu bilgisini modele besler. Bu şekilde model tokenlerin sıralamasına göre anlamasal ilişkileri kurabilir.\n",
        "# Ancak classificaiton ve sentiment analysis görevlerinde segment embedding kullanılmaz.\n",
        "\n",
        "# Bunun için aşağıda göreceğimiz encode_plus kodunu kullanacağız. "
      ],
      "metadata": {
        "colab": {
          "base_uri": "https://localhost:8080/"
        },
        "id": "nfR7gMFCTZZI",
        "outputId": "6ed3dfe8-3a14-4873-bdd8-d1318d6d1eaa"
      },
      "execution_count": null,
      "outputs": [
        {
          "output_type": "stream",
          "name": "stdout",
          "text": [
            "[2, 15955, 11679, 2033, 28792, 2239, 8621, 6191, 14533, 1993, 2419, 35, 989, 3]\n",
            "14\n"
          ]
        }
      ]
    },
    {
      "cell_type": "markdown",
      "metadata": {
        "id": "wVwOkzBCjmMX"
      },
      "source": [
        "### Fixing token counts of all documents"
      ]
    },
    {
      "cell_type": "code",
      "execution_count": null,
      "metadata": {
        "colab": {
          "base_uri": "https://localhost:8080/"
        },
        "id": "HXHgV6hdSBdP",
        "outputId": "5965b5d2-c645-489f-cc1c-beee72939b7f"
      },
      "outputs": [
        {
          "output_type": "stream",
          "name": "stderr",
          "text": [
            "Token indices sequence length is longer than the specified maximum sequence length for this model (521 > 512). Running this sequence through the model will result in indexing errors\n"
          ]
        },
        {
          "output_type": "stream",
          "name": "stdout",
          "text": [
            "Max sentence length:  546\n"
          ]
        }
      ],
      "source": [
        "# For every sentence...\n",
        "max_token = []\n",
        "for sent in X:\n",
        "\n",
        "    # Tokenize the text and add `[CLS]` and `[SEP]` tokens.\n",
        "    \n",
        "    input_ids = tokenizer.encode(sent, add_special_tokens=True)\n",
        "    max_token.append(len(input_ids))\n",
        "\n",
        "print('Max sentence length: ', max(max_token))\n",
        "\n",
        "# tokenizer.encode() fonksiyonunu sadece en uzun yorumun kaç tokenden oluştuğu bulmak ve tüm yorumları/textleri kaç\n",
        "# tokene sabitliyeceğimize karar vermek için kullanacağız."
      ]
    },
    {
      "cell_type": "code",
      "execution_count": null,
      "metadata": {
        "colab": {
          "base_uri": "https://localhost:8080/"
        },
        "id": "Nl9BCD__wGTk",
        "outputId": "dc27dfec-fbd0-4fca-faac-e0cd1ae685ff"
      },
      "outputs": [
        {
          "output_type": "execute_result",
          "data": {
            "text/plain": [
              "39.53032686234327"
            ]
          },
          "metadata": {},
          "execution_count": 17
        }
      ],
      "source": [
        "np.array(max_token).mean()"
      ]
    },
    {
      "cell_type": "code",
      "execution_count": null,
      "metadata": {
        "colab": {
          "base_uri": "https://localhost:8080/"
        },
        "id": "GJEpW1GMUa7Q",
        "outputId": "32932344-ea9f-43c2-a7eb-b8015d8d92fc"
      },
      "outputs": [
        {
          "output_type": "execute_result",
          "data": {
            "text/plain": [
              "0.9852072099450917"
            ]
          },
          "metadata": {},
          "execution_count": 18
        }
      ],
      "source": [
        "sum(np.array(max_token) <= 160) / len(max_token)\n",
        "\n",
        "# tüm yorumları 160 tokene sabitlemeye karar veriyoruz."
      ]
    },
    {
      "cell_type": "markdown",
      "source": [
        "### Transformation Vectors to Matrices"
      ],
      "metadata": {
        "id": "m-aKWdTbWEQP"
      }
    },
    {
      "cell_type": "code",
      "source": [
        "sentence = \"Şentepeli Şükrü abi çok güzel bir insan?😊\"\n",
        "tokens = tokenizer.encode_plus(sentence, add_special_tokens=True)\n",
        "print(tokens)\n",
        "\n",
        "# tokenizer.encode_plus() fonksiyonu BERT modellerinin istediği gibi texti token embeddings (input_ids), segment embeddings (token_type_ids), \n",
        "# position embeddings (attention_mask) vektörlerine dönüştürür.\n",
        "# tokenizer.encode()'da yaptığımız gibi burda da yine cümlenin/yorumun başlangıç-[CLS] ve bitiş-[SEP] noktalarını gösteren special tokenler her texte ilave edilir.\n",
        "\n",
        "# ÖNEMLİ NOT: BERT classification ve sentiment analys tasklerinde sadece embeddings (input_ids), position embeddings (attention_mask) kullanılır."
      ],
      "metadata": {
        "colab": {
          "base_uri": "https://localhost:8080/"
        },
        "id": "yGRSjL_mVtPr",
        "outputId": "a64c9c07-3889-4bfc-f3fa-32397e3601c2"
      },
      "execution_count": null,
      "outputs": [
        {
          "output_type": "stream",
          "name": "stdout",
          "text": [
            "{'input_ids': [2, 15955, 11679, 2033, 28792, 2239, 8621, 6191, 14533, 1993, 2419, 35, 989, 3], 'token_type_ids': [0, 0, 0, 0, 0, 0, 0, 0, 0, 0, 0, 0, 0, 0], 'attention_mask': [1, 1, 1, 1, 1, 1, 1, 1, 1, 1, 1, 1, 1, 1]}\n"
          ]
        }
      ]
    },
    {
      "cell_type": "code",
      "source": [
        "tokens = tokenizer.encode_plus(sentence, max_length=160, truncation=True,\n",
        "                              padding='max_length', add_special_tokens=True)\n",
        "tokens\n",
        "\n",
        "# Yorumları 160 tokene sabitlemeye karar verdiğimizden tokenizer.encode_plus() fonksiyonu içerisine max_length=160, truncation=True, padding='max_length' parametlerini \n",
        "# vererek tüm yorumlar 160 token olacak şekilde kırpma (truncation=True) ve dolgulama (padding='max_length') işlemlerini yapıyoruz. Burda dikket etmemiz gereken\n",
        "# husus padding = True kullanmıyoruz bunun yerine yerine padding='max_length' kullanıyoruz.\n",
        "# Ayrıca textler [CLS] ve [SEP] special tokenleri ilave edilmiş şekilde 160 tokene sabitlenecektir.\n",
        "\n",
        "# Gördüğünüz gibi 3 vektörde 160 tokene sabitlendi. Classificaiton problemlerinde segment embeddings (token_type_ids) sadece 0'lardan oluşan bir vektör\n",
        "# olacağından classification problemlerinde kullanılmadığını unutmuyoruz."
      ],
      "metadata": {
        "colab": {
          "base_uri": "https://localhost:8080/"
        },
        "id": "qizDYSs5XwT6",
        "outputId": "12483b1b-afbf-408e-bda5-c4966c60ad50"
      },
      "execution_count": null,
      "outputs": [
        {
          "output_type": "execute_result",
          "data": {
            "text/plain": [
              "{'input_ids': [2, 15955, 11679, 2033, 28792, 2239, 8621, 6191, 14533, 1993, 2419, 35, 989, 3, 0, 0, 0, 0, 0, 0, 0, 0, 0, 0, 0, 0, 0, 0, 0, 0, 0, 0, 0, 0, 0, 0, 0, 0, 0, 0, 0, 0, 0, 0, 0, 0, 0, 0, 0, 0, 0, 0, 0, 0, 0, 0, 0, 0, 0, 0, 0, 0, 0, 0, 0, 0, 0, 0, 0, 0, 0, 0, 0, 0, 0, 0, 0, 0, 0, 0, 0, 0, 0, 0, 0, 0, 0, 0, 0, 0, 0, 0, 0, 0, 0, 0, 0, 0, 0, 0, 0, 0, 0, 0, 0, 0, 0, 0, 0, 0, 0, 0, 0, 0, 0, 0, 0, 0, 0, 0, 0, 0, 0, 0, 0, 0, 0, 0, 0, 0, 0, 0, 0, 0, 0, 0, 0, 0, 0, 0, 0, 0, 0, 0, 0, 0, 0, 0, 0, 0, 0, 0, 0, 0, 0, 0, 0, 0, 0, 0], 'token_type_ids': [0, 0, 0, 0, 0, 0, 0, 0, 0, 0, 0, 0, 0, 0, 0, 0, 0, 0, 0, 0, 0, 0, 0, 0, 0, 0, 0, 0, 0, 0, 0, 0, 0, 0, 0, 0, 0, 0, 0, 0, 0, 0, 0, 0, 0, 0, 0, 0, 0, 0, 0, 0, 0, 0, 0, 0, 0, 0, 0, 0, 0, 0, 0, 0, 0, 0, 0, 0, 0, 0, 0, 0, 0, 0, 0, 0, 0, 0, 0, 0, 0, 0, 0, 0, 0, 0, 0, 0, 0, 0, 0, 0, 0, 0, 0, 0, 0, 0, 0, 0, 0, 0, 0, 0, 0, 0, 0, 0, 0, 0, 0, 0, 0, 0, 0, 0, 0, 0, 0, 0, 0, 0, 0, 0, 0, 0, 0, 0, 0, 0, 0, 0, 0, 0, 0, 0, 0, 0, 0, 0, 0, 0, 0, 0, 0, 0, 0, 0, 0, 0, 0, 0, 0, 0, 0, 0, 0, 0, 0, 0], 'attention_mask': [1, 1, 1, 1, 1, 1, 1, 1, 1, 1, 1, 1, 1, 1, 0, 0, 0, 0, 0, 0, 0, 0, 0, 0, 0, 0, 0, 0, 0, 0, 0, 0, 0, 0, 0, 0, 0, 0, 0, 0, 0, 0, 0, 0, 0, 0, 0, 0, 0, 0, 0, 0, 0, 0, 0, 0, 0, 0, 0, 0, 0, 0, 0, 0, 0, 0, 0, 0, 0, 0, 0, 0, 0, 0, 0, 0, 0, 0, 0, 0, 0, 0, 0, 0, 0, 0, 0, 0, 0, 0, 0, 0, 0, 0, 0, 0, 0, 0, 0, 0, 0, 0, 0, 0, 0, 0, 0, 0, 0, 0, 0, 0, 0, 0, 0, 0, 0, 0, 0, 0, 0, 0, 0, 0, 0, 0, 0, 0, 0, 0, 0, 0, 0, 0, 0, 0, 0, 0, 0, 0, 0, 0, 0, 0, 0, 0, 0, 0, 0, 0, 0, 0, 0, 0, 0, 0, 0, 0, 0, 0]}"
            ]
          },
          "metadata": {},
          "execution_count": 16
        }
      ]
    },
    {
      "cell_type": "code",
      "source": [
        "np.array(tokens['input_ids'])"
      ],
      "metadata": {
        "colab": {
          "base_uri": "https://localhost:8080/"
        },
        "id": "joUyTlOTCAwv",
        "outputId": "178253a6-2ce2-4b78-ddc7-d8a95104db6f"
      },
      "execution_count": null,
      "outputs": [
        {
          "output_type": "execute_result",
          "data": {
            "text/plain": [
              "array([    2, 15955, 11679,  2033, 28792,  2239,  8621,  6191, 14533,\n",
              "        1993,  2419,    35,   989,     3,     0,     0,     0,     0,\n",
              "           0,     0,     0,     0,     0,     0,     0,     0,     0,\n",
              "           0,     0,     0,     0,     0,     0,     0,     0,     0,\n",
              "           0,     0,     0,     0,     0,     0,     0,     0,     0,\n",
              "           0,     0,     0,     0,     0,     0,     0,     0,     0,\n",
              "           0,     0,     0,     0,     0,     0,     0,     0,     0,\n",
              "           0,     0,     0,     0,     0,     0,     0,     0,     0,\n",
              "           0,     0,     0,     0,     0,     0,     0,     0,     0,\n",
              "           0,     0,     0,     0,     0,     0,     0,     0,     0,\n",
              "           0,     0,     0,     0,     0,     0,     0,     0,     0,\n",
              "           0,     0,     0,     0,     0,     0,     0,     0,     0,\n",
              "           0,     0,     0,     0,     0,     0,     0,     0,     0,\n",
              "           0,     0,     0,     0,     0,     0,     0,     0,     0,\n",
              "           0,     0,     0,     0,     0,     0,     0,     0,     0,\n",
              "           0,     0,     0,     0,     0,     0,     0,     0,     0,\n",
              "           0,     0,     0,     0,     0,     0,     0,     0,     0,\n",
              "           0,     0,     0,     0,     0,     0,     0])"
            ]
          },
          "metadata": {},
          "execution_count": 17
        }
      ]
    },
    {
      "cell_type": "code",
      "source": [
        "np.array(tokens['attention_mask'])"
      ],
      "metadata": {
        "colab": {
          "base_uri": "https://localhost:8080/"
        },
        "id": "CFF3M9TcCSWp",
        "outputId": "630e3d6c-393f-4e16-99db-7edb01edca2f"
      },
      "execution_count": null,
      "outputs": [
        {
          "output_type": "execute_result",
          "data": {
            "text/plain": [
              "array([1, 1, 1, 1, 1, 1, 1, 1, 1, 1, 1, 1, 1, 1, 0, 0, 0, 0, 0, 0, 0, 0,\n",
              "       0, 0, 0, 0, 0, 0, 0, 0, 0, 0, 0, 0, 0, 0, 0, 0, 0, 0, 0, 0, 0, 0,\n",
              "       0, 0, 0, 0, 0, 0, 0, 0, 0, 0, 0, 0, 0, 0, 0, 0, 0, 0, 0, 0, 0, 0,\n",
              "       0, 0, 0, 0, 0, 0, 0, 0, 0, 0, 0, 0, 0, 0, 0, 0, 0, 0, 0, 0, 0, 0,\n",
              "       0, 0, 0, 0, 0, 0, 0, 0, 0, 0, 0, 0, 0, 0, 0, 0, 0, 0, 0, 0, 0, 0,\n",
              "       0, 0, 0, 0, 0, 0, 0, 0, 0, 0, 0, 0, 0, 0, 0, 0, 0, 0, 0, 0, 0, 0,\n",
              "       0, 0, 0, 0, 0, 0, 0, 0, 0, 0, 0, 0, 0, 0, 0, 0, 0, 0, 0, 0, 0, 0,\n",
              "       0, 0, 0, 0, 0, 0])"
            ]
          },
          "metadata": {},
          "execution_count": 18
        }
      ]
    },
    {
      "cell_type": "code",
      "source": [
        "# Elimizde tek bir yorum/text varken BERT modelleri 3 ayrı vektör (classificaiton problemleri için 2 ayrı vektör) olarak textin numeric versiona dönüştürülmesini\n",
        "# ister. Ancak birden fazla yorum varsa artık olayın boyutu değişir. Ve vektörlerin biraraya gelmesiyle oluşan matrixler isterler.\n",
        "# Problemimiz classification olduğundan token embeddings (input_ids), position embeddings (attention_mask) vektörlerinden oluşan 2 ayrı matrix elde etmemiz gerekiyor.\n",
        "# Bunun için öncelikle input_ids ve attention_mask için boş listeler oluşturup for döngüsüyle X'den tüm yorumları sırayla çekip bu yorumlardan elde ettiğimiz input_ids,\n",
        "# attention_mask vektörlerini boş listeler içine append edip son aşamada bu listeleri array() fonksiyonu ile  (satır sayısı, sabitlediğimiz token sayısı) --> (len(X), 160) \n",
        "# boyutunda matrixlere dönüştürüyoruz.\n",
        "\n",
        "def transformation(X):\n",
        "  # set array dimensions\n",
        "  seq_len = 160\n",
        "\n",
        "  # input_ids'ler için Xids boş listesini, attention_mask'ler için Xmask boş listesini oluşturuyoruz.\n",
        "  Xids = []\n",
        "  Xmask = []\n",
        "\n",
        "    \n",
        "  for sentence in X: # corpustan tüm yorumları sırayla çekiyoruz.\n",
        "\n",
        "      tokens = tokenizer.encode_plus(sentence, max_length=seq_len, truncation=True,\n",
        "                                      padding='max_length', add_special_tokens=True) \n",
        "      # çektiğimiz herbir yorumu(sentence) vektörlere dönüştürüyoruz.\n",
        "      \n",
        "      # assign tokenized outputs to respective rows in numpy arrays\n",
        "      Xids.append(tokens['input_ids']) # her bir yoruma karşılık gelen input_ids vektörünü Xids listesine append ediyoruz.\n",
        "      Xmask.append(tokens['attention_mask']) # her bir yoruma karşılık gelen attention_mask vektörünü Xmask append ediyoruz.\n",
        "\n",
        "  return np.array(Xids), np.array(Xmask) # Xids ve Xmask listelerini np.array ile (yorum sayısı, 160) boyutlarında matrixlere dönüştürüyoruz."
      ],
      "metadata": {
        "id": "hIYDim1J1SaP"
      },
      "execution_count": null,
      "outputs": []
    },
    {
      "cell_type": "code",
      "execution_count": null,
      "metadata": {
        "id": "0NV4wPkfHS3h"
      },
      "outputs": [],
      "source": [
        "Xids_train, Xmask_train = transformation(X_train)\n",
        "\n",
        "# Train setimiz için 2 ayrı matriximizi düzenliyoruz.\n",
        "\n",
        "Xids_test, Xmask_test = transformation(X_test)\n",
        "# Test setimiz için de 2 ayrı matriximizi düzenliyoruz."
      ]
    },
    {
      "cell_type": "code",
      "source": [
        "Xids_train"
      ],
      "metadata": {
        "colab": {
          "base_uri": "https://localhost:8080/"
        },
        "id": "obyBYy-O2BIj",
        "outputId": "e932293f-eb2c-40cc-8536-e71cf3ac1acb"
      },
      "execution_count": null,
      "outputs": [
        {
          "output_type": "execute_result",
          "data": {
            "text/plain": [
              "array([[    2,  7147,    21, ...,     0,     0,     0],\n",
              "       [    2, 21093, 13520, ...,     0,     0,     0],\n",
              "       [    2,  2156, 12812, ...,     0,     0,     0],\n",
              "       ...,\n",
              "       [    2, 11944,  4036, ...,     0,     0,     0],\n",
              "       [    2,  6191, 30453, ...,     0,     0,     0],\n",
              "       [    2,  6191, 14533, ...,     0,     0,     0]])"
            ]
          },
          "metadata": {},
          "execution_count": 21
        }
      ]
    },
    {
      "cell_type": "code",
      "source": [
        "print(\"Xids_train.shape  :\", Xids_train.shape)\n",
        "print(\"Xmask_train.shape :\", Xmask_train.shape)\n",
        "print(\"Xids_test.shape   :\", Xids_test.shape)\n",
        "print(\"Xmask_test.shape  :\", Xmask_test.shape)"
      ],
      "metadata": {
        "colab": {
          "base_uri": "https://localhost:8080/"
        },
        "id": "1vJfHkbITbKC",
        "outputId": "d620820d-de3c-466b-c1c0-4c8b12e9b348"
      },
      "execution_count": null,
      "outputs": [
        {
          "output_type": "stream",
          "name": "stdout",
          "text": [
            "Xids_train.shape  : (219147, 160)\n",
            "Xmask_train.shape : (219147, 160)\n",
            "Xids_test.shape   : (24350, 160)\n",
            "Xmask_test.shape  : (24350, 160)\n"
          ]
        }
      ]
    },
    {
      "cell_type": "code",
      "execution_count": null,
      "metadata": {
        "colab": {
          "base_uri": "https://localhost:8080/"
        },
        "id": "oQSgvvRlDfE-",
        "outputId": "130af183-4af3-4cce-ab1a-d74cc15455a2"
      },
      "outputs": [
        {
          "output_type": "execute_result",
          "data": {
            "text/plain": [
              "array([0, 0, 0, ..., 0, 1, 0])"
            ]
          },
          "metadata": {},
          "execution_count": 23
        }
      ],
      "source": [
        "y_train"
      ]
    },
    {
      "cell_type": "code",
      "execution_count": null,
      "metadata": {
        "colab": {
          "base_uri": "https://localhost:8080/"
        },
        "id": "lHJJhrbztBv9",
        "outputId": "3bd1b2ca-430f-4488-b04e-0d30ca700dc2"
      },
      "outputs": [
        {
          "output_type": "execute_result",
          "data": {
            "text/plain": [
              "array([[0],\n",
              "       [0],\n",
              "       [0],\n",
              "       ...,\n",
              "       [0],\n",
              "       [1],\n",
              "       [0]])"
            ]
          },
          "metadata": {},
          "execution_count": 24
        }
      ],
      "source": [
        "labels_train = y_train.reshape(-1,1)\n",
        "labels_train\n",
        "\n",
        "# BERT modelleri target'ı da bir matrix olarak ister. Bu sebeple y_train targetımızı (len(y_train), 1) boyutunda bir matrix'e dönüştürüyoruz."
      ]
    },
    {
      "cell_type": "code",
      "source": [
        "y_test"
      ],
      "metadata": {
        "colab": {
          "base_uri": "https://localhost:8080/"
        },
        "id": "O4_LS9A0dPqW",
        "outputId": "8735fe93-6679-4358-9b0f-728d6cc56b4f"
      },
      "execution_count": null,
      "outputs": [
        {
          "output_type": "execute_result",
          "data": {
            "text/plain": [
              "array([0, 0, 0, ..., 0, 0, 0])"
            ]
          },
          "metadata": {},
          "execution_count": 25
        }
      ]
    },
    {
      "cell_type": "code",
      "source": [
        "labels_test = y_test.reshape(-1,1)\n",
        "labels_test\n",
        "\n",
        "# BERT modelleri target'ı da bir matrix olarak ister. Bu sebeple y_train targetımızı (len(y_train), 1) boyutunda bir matrix'e dönüştürüyoruz."
      ],
      "metadata": {
        "colab": {
          "base_uri": "https://localhost:8080/"
        },
        "id": "rnnfsw0NdP3q",
        "outputId": "f4602023-8118-4b90-97cc-3301c6a03426"
      },
      "execution_count": null,
      "outputs": [
        {
          "output_type": "execute_result",
          "data": {
            "text/plain": [
              "array([[0],\n",
              "       [0],\n",
              "       [0],\n",
              "       ...,\n",
              "       [0],\n",
              "       [0],\n",
              "       [0]])"
            ]
          },
          "metadata": {},
          "execution_count": 26
        }
      ]
    },
    {
      "cell_type": "code",
      "source": [],
      "metadata": {
        "id": "dPqCWzWoWljh"
      },
      "execution_count": null,
      "outputs": []
    },
    {
      "cell_type": "code",
      "source": [
        "from tensorflow.keras.utils import to_categorical\n",
        "\n",
        "l = np.array([0, 1, 3, 5, 4, 2])\n",
        "to_categorical(l, 6) \n",
        "\n",
        "# Eğer targıtımız binary değilde multi-class olsaydı o zaman target'ı matrix'e dönüştürmek için to_categorical fonksiyonunu kullanacaktık."
      ],
      "metadata": {
        "colab": {
          "base_uri": "https://localhost:8080/"
        },
        "id": "9bAr9g42Wlst",
        "outputId": "f258d093-513f-4adf-b419-50e33e1164ec"
      },
      "execution_count": null,
      "outputs": [
        {
          "output_type": "execute_result",
          "data": {
            "text/plain": [
              "array([[1., 0., 0., 0., 0., 0.],\n",
              "       [0., 1., 0., 0., 0., 0.],\n",
              "       [0., 0., 0., 1., 0., 0.],\n",
              "       [0., 0., 0., 0., 0., 1.],\n",
              "       [0., 0., 0., 0., 1., 0.],\n",
              "       [0., 0., 1., 0., 0., 0.]], dtype=float32)"
            ]
          },
          "metadata": {},
          "execution_count": 27
        }
      ]
    },
    {
      "cell_type": "markdown",
      "source": [
        "## Transformation Matrix to Tenserflow Tensor"
      ],
      "metadata": {
        "id": "4TeftGUfeFDE"
      }
    },
    {
      "cell_type": "code",
      "execution_count": null,
      "metadata": {
        "colab": {
          "base_uri": "https://localhost:8080/"
        },
        "id": "_WwNbUgys-oJ",
        "outputId": "dc537c8a-72d8-4ff8-ce4f-3b5cd8714698"
      },
      "outputs": [
        {
          "output_type": "execute_result",
          "data": {
            "text/plain": [
              "<TensorSliceDataset element_spec=(TensorSpec(shape=(160,), dtype=tf.int64, name=None), TensorSpec(shape=(160,), dtype=tf.int64, name=None), TensorSpec(shape=(1,), dtype=tf.int64, name=None))>"
            ]
          },
          "metadata": {},
          "execution_count": 28
        }
      ],
      "source": [
        "import tensorflow as tf\n",
        "\n",
        "dataset_train = tf.data.Dataset.from_tensor_slices((Xids_train, Xmask_train, labels_train))\n",
        "dataset_train\n",
        "\n",
        "# Datayı BERT modellerine vermeden önceki son aşama yukarıda elde ettiğimiz matrixleri gruplandırılmış Tensorflow tensörlerine dönüştürmektir.\n",
        "# Bir tensor, bir veya daha fazla boyutta veri topluluğunu ifade eden bir matematiksel yapıdır. Tek boyutlu tensör vektör olarak, 2 boyutlu tensör matrix olarak, \n",
        "# 3 ve daha büyük boyuttaki tensörler ise yüksek boyutlu tensörler olarak ifade edilir.\n",
        "\n",
        "# Tensorflow  tensörleri GPU/TPU gibi donanımların daha hızlı çalışmasını veya paralel işleme gibi işlemlerin daha effektif yapılmasını sağlar. \n",
        "# TensorFlow tensörleri, TensorFlow kütüphanesi tarafından sağlanan otomatik türev alma özelliklerini de kullanabilir. Ancak numpy.array() bu işlemleri sağlayamadığı \n",
        "# için Tesorflow kütüphanesi ile Tensörlere dönüştürüyoruz.\n",
        "\n",
        "# Ayrıca, tf.data.Dataset.from_tensor_slices fonksiyonu, Xids_train, Xmask_train, labels_train tensörlerinin 3'ünü gruplar haline getirir. Model böylece bu 3 tensörün\n",
        "# aynı veriyi temsil ettiğini anlayacaktır.\n",
        "\n",
        "# Bu kapsamda, train datası için yukarıda elde ettiğimiz 3 ayrı matrix'mizi de gruplandırılmış Tensorflow tensörlerine dönüştüreceğiz. "
      ]
    },
    {
      "cell_type": "code",
      "source": [
        "dataset_test = tf.data.Dataset.from_tensor_slices((Xids_test, Xmask_test, labels_test))\n",
        "dataset_test\n",
        "\n",
        "# Train datasına yaptığımız gibi test datası için de 3 ayrı matrix'mizi gruplandırılmış Tensorflow tensörlerine dönüştüreceğiz."
      ],
      "metadata": {
        "colab": {
          "base_uri": "https://localhost:8080/"
        },
        "id": "DoYrAWaieXJ4",
        "outputId": "eade57ef-3798-4861-9c6a-862aeecdf686"
      },
      "execution_count": null,
      "outputs": [
        {
          "output_type": "execute_result",
          "data": {
            "text/plain": [
              "<TensorSliceDataset element_spec=(TensorSpec(shape=(160,), dtype=tf.int64, name=None), TensorSpec(shape=(160,), dtype=tf.int64, name=None), TensorSpec(shape=(1,), dtype=tf.int64, name=None))>"
            ]
          },
          "metadata": {},
          "execution_count": 29
        }
      ]
    },
    {
      "cell_type": "code",
      "execution_count": null,
      "metadata": {
        "id": "QPM4QFRgm_Dq"
      },
      "outputs": [],
      "source": [
        "def map_func(Tensor_Xids, Tensor_Xmask, Tensor_labels):\n",
        "    # we convert our three-item tuple into a two-item tuple where the input item is a dictionary\n",
        "    return {'input_ids': Tensor_Xids, 'attention_mask': Tensor_Xmask}, Tensor_labels\n",
        "  \n",
        "# Yukarıda elde ettiğimiz tensörlerden hangisi 'input_ids' hangisi 'attention_mask' ve hangisi labels model bunları bilemez. Bu sebeple\n",
        "# bu bilgiyi bizim modele sağlamamız gerekiyor. Bunun için yukarıdaki fonksiyonu tanımlıyoruz.\n",
        "# süslü parantez içerisine 'input_ids' ve  'attention_mask' tanımlamamızı yapıyoruz. Labels'ı süslü parantez dışarısında bırakıyoruz."
      ]
    },
    {
      "cell_type": "code",
      "source": [
        "# then we use the dataset map method to apply this transformation\n",
        "dataset_train = dataset_train.map(map_func)\n",
        "dataset_test = dataset_test.map(map_func) \n",
        "\n",
        "# yukarıda tanımladığımız fonksiyonu map ile tüm train ve test datasına uyguluyoruz.\n",
        "# dataset_train.map(map_func) ve dataset_test.map(map_func) şeklinde de dönüşümler yapılır. "
      ],
      "metadata": {
        "id": "KQLmS8czerNY"
      },
      "execution_count": null,
      "outputs": []
    },
    {
      "cell_type": "code",
      "execution_count": null,
      "metadata": {
        "colab": {
          "base_uri": "https://localhost:8080/"
        },
        "id": "w9siHyyDp_CR",
        "outputId": "58d45742-b43f-4e1e-fdc5-ca3b9813862f"
      },
      "outputs": [
        {
          "output_type": "execute_result",
          "data": {
            "text/plain": [
              "<MapDataset element_spec=({'input_ids': TensorSpec(shape=(160,), dtype=tf.int64, name=None), 'attention_mask': TensorSpec(shape=(160,), dtype=tf.int64, name=None)}, TensorSpec(shape=(1,), dtype=tf.int64, name=None))>"
            ]
          },
          "metadata": {},
          "execution_count": 32
        }
      ],
      "source": [
        "dataset_train"
      ]
    },
    {
      "cell_type": "code",
      "source": [
        "dataset_test"
      ],
      "metadata": {
        "colab": {
          "base_uri": "https://localhost:8080/"
        },
        "id": "Dn5fSio6fNXc",
        "outputId": "4c33df98-7d7a-4d26-c098-b4f672e24ba9"
      },
      "execution_count": null,
      "outputs": [
        {
          "output_type": "execute_result",
          "data": {
            "text/plain": [
              "<MapDataset element_spec=({'input_ids': TensorSpec(shape=(160,), dtype=tf.int64, name=None), 'attention_mask': TensorSpec(shape=(160,), dtype=tf.int64, name=None)}, TensorSpec(shape=(1,), dtype=tf.int64, name=None))>"
            ]
          },
          "metadata": {},
          "execution_count": 33
        }
      ]
    },
    {
      "cell_type": "markdown",
      "metadata": {
        "id": "VCuOU85Ldns6"
      },
      "source": [
        "## Batch Size Train and Validation Dataset"
      ]
    },
    {
      "cell_type": "code",
      "execution_count": null,
      "metadata": {
        "id": "1PDQLvW_m_ww"
      },
      "outputs": [],
      "source": [
        "batch_size = 32\n",
        "\n",
        "# BERT modeli geliştiren developerlar tarafından batch_size olarak 16 ve 32 sayıları tavsiye edilmiştir.\n",
        "\n",
        "# batch_size \n",
        "# fit into a batch of 32\n",
        "train_ds = dataset_train.batch(batch_size)\n",
        "val_ds = dataset_test.batch(batch_size)\n",
        "\n",
        "# Yukarıda elde ettiğimiz gruplandırılmış tensörleri kaçarlı paketler halinde modele vereceğimizi belirliyoruz. Bu işlemi batch() fonksiyonu ile yapıyoruz.\n",
        "# 32'li paketler halinde modele verilmesini istiyoruz. hem train hem de test datasına uyguluyoruz."
      ]
    },
    {
      "cell_type": "code",
      "source": [
        "train_ds"
      ],
      "metadata": {
        "id": "lr7ih_V7OBHB",
        "colab": {
          "base_uri": "https://localhost:8080/"
        },
        "outputId": "54785cfc-322e-47fe-cf44-19f9265610ac"
      },
      "execution_count": null,
      "outputs": [
        {
          "output_type": "execute_result",
          "data": {
            "text/plain": [
              "<BatchDataset element_spec=({'input_ids': TensorSpec(shape=(None, 160), dtype=tf.int64, name=None), 'attention_mask': TensorSpec(shape=(None, 160), dtype=tf.int64, name=None)}, TensorSpec(shape=(None, 1), dtype=tf.int64, name=None))>"
            ]
          },
          "metadata": {},
          "execution_count": 35
        }
      ]
    },
    {
      "cell_type": "markdown",
      "source": [
        "https://www.tensorflow.org/tfmodels/nlp/fine_tune_bert"
      ],
      "metadata": {
        "id": "FYMGplc2OCBL"
      }
    },
    {
      "cell_type": "code",
      "source": [
        "!pip install -q tf-models-official"
      ],
      "metadata": {
        "id": "pXdpuJT7bokA",
        "colab": {
          "base_uri": "https://localhost:8080/"
        },
        "outputId": "ddca4957-8062-4fb9-b167-e4efec311850"
      },
      "execution_count": null,
      "outputs": [
        {
          "output_type": "stream",
          "name": "stdout",
          "text": [
            "\u001b[2K     \u001b[90m━━━━━━━━━━━━━━━━━━━━━━━━━━━━━━━━━━━━━━━━\u001b[0m \u001b[32m2.3/2.3 MB\u001b[0m \u001b[31m25.1 MB/s\u001b[0m eta \u001b[36m0:00:00\u001b[0m\n",
            "\u001b[2K     \u001b[90m━━━━━━━━━━━━━━━━━━━━━━━━━━━━━━━━━━━━━━━━\u001b[0m \u001b[32m5.8/5.8 MB\u001b[0m \u001b[31m64.7 MB/s\u001b[0m eta \u001b[36m0:00:00\u001b[0m\n",
            "\u001b[2K     \u001b[90m━━━━━━━━━━━━━━━━━━━━━━━━━━━━━━━━━━━━━━━━\u001b[0m \u001b[32m1.1/1.1 MB\u001b[0m \u001b[31m44.0 MB/s\u001b[0m eta \u001b[36m0:00:00\u001b[0m\n",
            "\u001b[2K     \u001b[90m━━━━━━━━━━━━━━━━━━━━━━━━━━━━━━━━━━━━━━\u001b[0m \u001b[32m662.4/662.4 KB\u001b[0m \u001b[31m41.1 MB/s\u001b[0m eta \u001b[36m0:00:00\u001b[0m\n",
            "\u001b[2K     \u001b[90m━━━━━━━━━━━━━━━━━━━━━━━━━━━━━━━━━━━━━━━━\u001b[0m \u001b[32m1.3/1.3 MB\u001b[0m \u001b[31m49.9 MB/s\u001b[0m eta \u001b[36m0:00:00\u001b[0m\n",
            "\u001b[2K     \u001b[90m━━━━━━━━━━━━━━━━━━━━━━━━━━━━━━━━━━━━━━\u001b[0m \u001b[32m352.1/352.1 KB\u001b[0m \u001b[31m26.3 MB/s\u001b[0m eta \u001b[36m0:00:00\u001b[0m\n",
            "\u001b[2K     \u001b[90m━━━━━━━━━━━━━━━━━━━━━━━━━━━━━━━━━━━━━━━━\u001b[0m \u001b[32m43.6/43.6 KB\u001b[0m \u001b[31m3.8 MB/s\u001b[0m eta \u001b[36m0:00:00\u001b[0m\n",
            "\u001b[?25h  Preparing metadata (setup.py) ... \u001b[?25l\u001b[?25hdone\n",
            "\u001b[2K     \u001b[90m━━━━━━━━━━━━━━━━━━━━━━━━━━━━━━━━━━━━━━\u001b[0m \u001b[32m118.9/118.9 KB\u001b[0m \u001b[31m10.7 MB/s\u001b[0m eta \u001b[36m0:00:00\u001b[0m\n",
            "\u001b[2K     \u001b[90m━━━━━━━━━━━━━━━━━━━━━━━━━━━━━━━━━━━━━━━\u001b[0m \u001b[32m588.3/588.3 MB\u001b[0m \u001b[31m1.9 MB/s\u001b[0m eta \u001b[36m0:00:00\u001b[0m\n",
            "\u001b[2K     \u001b[90m━━━━━━━━━━━━━━━━━━━━━━━━━━━━━━━━━━━━━━\u001b[0m \u001b[32m238.9/238.9 KB\u001b[0m \u001b[31m16.9 MB/s\u001b[0m eta \u001b[36m0:00:00\u001b[0m\n",
            "\u001b[2K     \u001b[90m━━━━━━━━━━━━━━━━━━━━━━━━━━━━━━━━━━━━━━━━\u001b[0m \u001b[32m6.0/6.0 MB\u001b[0m \u001b[31m39.8 MB/s\u001b[0m eta \u001b[36m0:00:00\u001b[0m\n",
            "\u001b[2K     \u001b[90m━━━━━━━━━━━━━━━━━━━━━━━━━━━━━━━━━━━━━━━━\u001b[0m \u001b[32m1.7/1.7 MB\u001b[0m \u001b[31m47.6 MB/s\u001b[0m eta \u001b[36m0:00:00\u001b[0m\n",
            "\u001b[2K     \u001b[90m━━━━━━━━━━━━━━━━━━━━━━━━━━━━━━━━━━━━━━\u001b[0m \u001b[32m439.2/439.2 KB\u001b[0m \u001b[31m22.4 MB/s\u001b[0m eta \u001b[36m0:00:00\u001b[0m\n",
            "\u001b[?25h  Building wheel for seqeval (setup.py) ... \u001b[?25l\u001b[?25hdone\n"
          ]
        }
      ]
    },
    {
      "cell_type": "code",
      "source": [
        "print(len(train_ds)*3)\n",
        "print(int(0.1*len(train_ds)*3))"
      ],
      "metadata": {
        "colab": {
          "base_uri": "https://localhost:8080/"
        },
        "id": "nAlfvguDURFF",
        "outputId": "e3c16863-8af7-41f4-ce29-9ca5c92b3d36"
      },
      "execution_count": null,
      "outputs": [
        {
          "output_type": "stream",
          "name": "stdout",
          "text": [
            "20547\n",
            "2054\n"
          ]
        }
      ]
    },
    {
      "cell_type": "code",
      "source": [
        "from official.nlp import optimization\n",
        "epochs = 3\n",
        "#batch_size = 32\n",
        "steps_per_epoch = len(train_ds)\n",
        "\n",
        "num_train_steps = steps_per_epoch * epochs\n",
        "num_warmup_steps = int(0.1*num_train_steps)\n",
        "\n",
        "init_lr = 2e-5  # 3e-5, 5e-5\n",
        "optimizer= optimization.create_optimizer(init_lr=init_lr,\n",
        "                                          num_train_steps=num_train_steps,\n",
        "                                          num_warmup_steps=num_warmup_steps,\n",
        "                                          optimizer_type='adamw')  \n",
        "\n",
        "# Num_warmup_steps (ısınma adım sayısı), bir optimizasyon işleminde, modelin eğitim sürecinde kullanılacak olan optimizatörün öğrenme oranının (learning rate) nasıl \n",
        "# belirleneceğini belirler. Öğrenme oranı, modelin eğitim sürecinde ne kadar hızlı öğreneceğini ve güncelleyeceğini belirler. Öğrenme oranının çok yüksek olması, modelin\n",
        "# eğitim sürecinde hızlı öğrenmesine neden olabilir, ancak aynı zamanda modelin overfitting riskini de artırabilir. Öğrenme oranının çok düşük olması ise, modelin eğitim\n",
        "# sürecinde çok yavaş öğrenmesine neden olabilir.\n",
        "\n",
        "# Num_warmup_steps, modelin eğitim sürecinde optimizatörün öğrenme oranının, eğitim sürecinin başlangıcında düşük olmasını ve eğitim süreci ilerledikçe yavaş yavaş \n",
        "# yükselmesini sağlar. Bu sayede, modelin eğitim sürecinde daha düşük bir oranda hata yapma riski vardır ve modelin eğitim süreci daha düzenli ilerler. Bu da modelin \n",
        "# daha iyi bir performans göstermesini sağlar. \n",
        "\n",
        "\n",
        "# steps_per_epoch bir epochun kaç adımda tamamlanacağını gösterir. len(train_ds) = 6849 --> len(train_ds) sayısı train_datasının kaç tane 32'li paketlerden/adımlardan \n",
        "# oluştuğunu gösterir.\n",
        "# ÖNEMLİ NOT: train datalarındaki son paketler/adımlar  32'den daha az gözlemden oluşabilir. Mesela bu train_ds datamızın son paketinde/adımında 11 gözlem vardır. \n",
        "# Ancak, 32'den daha az gözlem olsa da biz yinede bunları bir paket/adım olarak sayıyoruz.\n",
        "\n",
        "# num_train_steps, eğitimin toplamda kaç adımda tamamlanacağını gösterir. Eğitim 3 epochda tamamlanacağı için steps_per_epoch(len(train_ds)) * epochs --> 6849 * 3 = 20547\n",
        "# num_warmup_steps, num_train_steps'in %10'u (20547x0.1 = 2054) olacak şekilde alınması tavsiye edilmiştir. Ancak bu oranı biraz daha azaltıp/artırarak skorlarınızı \n",
        "# gözlemleyebilirsiniz. num_warmup_steps'in 2054 olması şu anlama geliyor. Model eğitime başladığında optimization.create_optimizer fonksiyonunun içine verdiğimiz 2e-5 \n",
        "# öğrenme oranı ile direk eğitime başlamaz. \n",
        "# Eğitimin ilk 2054 adımında öğrenme oranı 0 ile 2e-5 arasında olacak şekilde kademeli olarak yavaş yavaş artırılır ve 2054'üncü adımdan sonra eğitim 2e-5 oranı ile devam eder.\n",
        "# Bu sayede modelin eğitim sürecinde daha düşük bir oranda hata yapma riski vardır ve modelin eğitim süreci daha düzenli ilerler. Bu da modelin daha iyi bir performans \n",
        "# göstermesini sağlar. \n",
        "\n",
        "# Dikkat ederseniz burda AdamW (Adam with Weight Decay) optimizatörünü kullandık. AdamW, Adam optimizatörüne ek olarak, ağırlık azaltma (weight decay) özelliği de içerir. \n",
        "# Ağırlık azaltma, modelin ağırlıklarının eğitim sürecinde daha az değişmesini sağlar ve bu sayede overfitting riskini azaltır.\n",
        "\n",
        "# BERT modellerinde developerların tavsiye ettiği öğrenme oranları 2e-5, 3e-5 ve 5e-5'dir.\n",
        "# BERT modellerinde developerların tavsiye ettiği epoch sayısı 2 veya 3'dür. Daha büyük sayılar overfitinge sebep olur. \n",
        "# Deneme yanılma ile hangi öğrenme oranlarının ve epoch sayılarının daha iyi sonuçlar verdiğini gözlemlememiz gerekiyor."
      ],
      "metadata": {
        "id": "FuIB9vY8T9AN"
      },
      "execution_count": null,
      "outputs": []
    },
    {
      "cell_type": "markdown",
      "metadata": {
        "id": "qrDXF1ibl76v"
      },
      "source": [
        "## Creating Model"
      ]
    },
    {
      "cell_type": "code",
      "execution_count": null,
      "metadata": {
        "id": "p__xkFOt4_oI"
      },
      "outputs": [],
      "source": [
        "def create_model():\n",
        "    from transformers import TFAutoModel\n",
        "    # BERTTürk modeli sadece pytorch tensörleri üzerinden eğitildiğinden modelin Tensorflow kütüphanesi ile çalışabilmesi için AutoModel yerine TFAutoModel yazıyoruz.\n",
        "    from tensorflow.keras.layers import Input, Dropout, Dense, BatchNormalization\n",
        "    from tensorflow.keras import Model\n",
        "\n",
        "    model = TFAutoModel.from_pretrained(\"dbmdz/bert-base-turkish-uncased\") \n",
        "    # Notebookun yeralan huggingface bert türk linkinden model kurma işlemlemleri için gerekli olan kodları aynen alıyoruz.\n",
        "    # Tokenization işlemleri \"dbmdz/bert-base-turkish-uncased\" ile yapıldığından eğitimide \"dbmdz/bert-base-turkish-uncased\" ile yapmamız gerekiyor. \n",
        "    # \"dbmdz/bert-base-turkish-cased\" ile eğitim yapılırsa sonuçlarımız kötü çıkacaktır.\n",
        "\n",
        "    input_ids = Input(shape=(160,), name='input_ids', dtype='int32')\n",
        "    attention_mask = Input(shape=(160,), name='attention_mask', dtype='int32')\n",
        "    # inputlarımız token embeddings (input_ids) ve position embeddings (attention_mask)'den oluştuğundan herbiri için bir input layer oluşturuyoruz.\n",
        "    # Her bir gözlem için input layerlarımızın boyutlarını (shape= (160,)) veriyoruz.\n",
        "    # modelin bu layerları birbirinden ayırt edebilmesi için name olarak map_func fonksiyonu içinde belirlediğimiz isimleri kullanıyoruz. Farklı isimler kullanılırsa model \n",
        "    # hata döndürür.\n",
        "    # BERT modelleri dtype= \"int32\" olarak çalışır. Bu sebeple dtype=\"int32\" olarak belirtiyoruz.\n",
        "\n",
        "    embeddings = model.bert(input_ids=input_ids, attention_mask=attention_mask)[\"pooler_output\"] #[1]\n",
        "    # embeddings layer, BERT model üzerinde daha önce eğitilip hafızasında tutulan word embeddingleri çektiğimiz katmandır.\n",
        "    # Çekilen Word embeddingler birleştirilerek sentence embeddinglere dönüştürülür. \n",
        "    # Elde ettiğimiz sentence embeddinglerin olumlu mu olumsuz mu olduğuna dair eğitimimizi Dense layer üzerinde yapacağız.\n",
        "\n",
        "    x = Dense(160, activation='relu')(embeddings)\n",
        "    x = BatchNormalization()(x)\n",
        "    x = Dropout(0.1)(x) #0.1 oranı developerlar tarafından tavsiye edilen orandır.\n",
        "    y = Dense(1, activation='sigmoid', name='outputs')(x) # outputumuz döndürüyor.\n",
        "\n",
        "    # Dikkat ettiyseniz burda Sequential API yerine Functional API kullanıyoruz. \n",
        "    # Functional API'de bir önceki layerdaki bilgileri bir sonraki layera aktarma işlemini aktarma yapacağımız layerdan sonra bir tuple açıp içerisine bir önceki layerın ismini \n",
        "    # yazarak yapıyoruz.\n",
        "    # Embeddings layerdan elde ettiğimiz sentence embeddingsleri Dense layer'a göndermek için Dense() layerdan sonra bir tuple açıp içerisine bir önceki layerın ismini yazıyoruz\n",
        "    # Aynen burda olduğu gibi \"Dense(160, activation='relu')(embeddings)\". Bu sayede embeddings layerdaki bilgiler Dense layera aktarılmış oldu.\n",
        "    # Hatırlarsanız bu işlem Sequential API'de model.add(embeddings) olarak yapılıyordu.\n",
        "\n",
        "    return Model(inputs=[input_ids, attention_mask], outputs=y)\n",
        "    # son aşamada elde ettiğimiz input ve outputlar Model fonksiyonu içine tanımlanır.\n",
        "\n",
        "# modeli bir fonksiyon içinde kurma sebebimiz aşağıdaki strategy.scope() kapsamında yapacağımız işlemlerin daha sade görünmesi için yoksa burdaki tüm kodları strategy.scope() \n",
        "# altında yazmamız gerekecekti."
      ]
    },
    {
      "cell_type": "code",
      "execution_count": null,
      "metadata": {
        "colab": {
          "base_uri": "https://localhost:8080/"
        },
        "id": "tPRqyWNQDzyb",
        "outputId": "08631eff-2e04-45be-ee8c-ed210a34ee14"
      },
      "outputs": [
        {
          "output_type": "stream",
          "name": "stderr",
          "text": [
            "Some layers from the model checkpoint at dbmdz/bert-base-turkish-uncased were not used when initializing TFBertModel: ['mlm___cls', 'nsp___cls']\n",
            "- This IS expected if you are initializing TFBertModel from the checkpoint of a model trained on another task or with another architecture (e.g. initializing a BertForSequenceClassification model from a BertForPreTraining model).\n",
            "- This IS NOT expected if you are initializing TFBertModel from the checkpoint of a model that you expect to be exactly identical (initializing a BertForSequenceClassification model from a BertForSequenceClassification model).\n",
            "All the layers of TFBertModel were initialized from the model checkpoint at dbmdz/bert-base-turkish-uncased.\n",
            "If your task is similar to the task the model of the checkpoint was trained on, you can already use TFBertModel for predictions without further training.\n"
          ]
        }
      ],
      "source": [
        "# strategy değişkenine atanan 8 TPU çekirdeğinin hızından faydalanarak yapmak istediğimiz tüm işlemleri with strategy.scope() kod bloğunun \n",
        "# altında tanımlıyoruz.\n",
        "\n",
        "with strategy.scope():\n",
        "\n",
        "  from tensorflow.keras.optimizers import Adam\n",
        "  from tensorflow.keras.losses import BinaryCrossentropy\n",
        "  from tensorflow.keras.metrics import Recall\n",
        "  \n",
        "  optimizer = optimizer\n",
        "  #optimizer = tf.keras.optimizers.Adam(learning_rate=2e-5) ==> yukarıda tanımladığımız optimizer'ı kullanmasaydık bu şekilde de optimizer'ı tanımlayabilirdik. \n",
        "  # Ama çok rahat overfiting olma riski vardır\n",
        "  loss = BinaryCrossentropy()\n",
        "  recall = Recall()\n",
        "  model3 = create_model()\n",
        "  model3.compile(optimizer=optimizer, loss=loss, metrics=[recall])\n",
        "\n",
        "  # Aşağıda çıkan uyarı önemli değildir. Classification tasklerinde modelin eğitim aşamasında Next Sentence Prediction(NSP) katmanını kullanmayacağı\n",
        "  # bilgisi veriliyor."
      ]
    },
    {
      "cell_type": "code",
      "execution_count": null,
      "metadata": {
        "id": "GHBMQ5bTxL4o"
      },
      "outputs": [],
      "source": [
        "#pd.Series(y).value_counts(normalize=True)"
      ]
    },
    {
      "cell_type": "code",
      "execution_count": null,
      "metadata": {
        "id": "GpqDx2KRxNpj"
      },
      "outputs": [],
      "source": [
        "#weights = {0:0.05, 1:0.95}"
      ]
    },
    {
      "cell_type": "code",
      "execution_count": null,
      "metadata": {
        "colab": {
          "base_uri": "https://localhost:8080/"
        },
        "id": "tLEyg_TUVTXn",
        "outputId": "48e5abbe-050c-4cd1-ba3b-4d244aea0948"
      },
      "outputs": [
        {
          "output_type": "stream",
          "name": "stdout",
          "text": [
            "Model: \"model\"\n",
            "__________________________________________________________________________________________________\n",
            " Layer (type)                   Output Shape         Param #     Connected to                     \n",
            "==================================================================================================\n",
            " input_ids (InputLayer)         [(None, 160)]        0           []                               \n",
            "                                                                                                  \n",
            " attention_mask (InputLayer)    [(None, 160)]        0           []                               \n",
            "                                                                                                  \n",
            " bert (TFBertMainLayer)         TFBaseModelOutputWi  110617344   ['input_ids[0][0]',              \n",
            "                                thPoolingAndCrossAt               'attention_mask[0][0]']         \n",
            "                                tentions(last_hidde                                               \n",
            "                                n_state=(None, 160,                                               \n",
            "                                 768),                                                            \n",
            "                                 pooler_output=(Non                                               \n",
            "                                e, 768),                                                          \n",
            "                                 past_key_values=No                                               \n",
            "                                ne, hidden_states=N                                               \n",
            "                                one, attentions=Non                                               \n",
            "                                e, cross_attentions                                               \n",
            "                                =None)                                                            \n",
            "                                                                                                  \n",
            " dense (Dense)                  (None, 160)          123040      ['bert[0][1]']                   \n",
            "                                                                                                  \n",
            " batch_normalization (BatchNorm  (None, 160)         640         ['dense[0][0]']                  \n",
            " alization)                                                                                       \n",
            "                                                                                                  \n",
            " dropout_37 (Dropout)           (None, 160)          0           ['batch_normalization[0][0]']    \n",
            "                                                                                                  \n",
            " outputs (Dense)                (None, 1)            161         ['dropout_37[0][0]']             \n",
            "                                                                                                  \n",
            "==================================================================================================\n",
            "Total params: 110,741,185\n",
            "Trainable params: 110,740,865\n",
            "Non-trainable params: 320\n",
            "__________________________________________________________________________________________________\n"
          ]
        }
      ],
      "source": [
        "model3.summary()"
      ]
    },
    {
      "cell_type": "code",
      "source": [
        "model3.fit(train_ds, validation_data= val_ds, epochs=epochs)\n",
        "\n",
        "# Notebook başında hedef labelımızı 1 yapmamızın sebebi modelin döndürdüğü recall ve val_recall metricleri 1 classına ait olan değerlerdir.\n",
        "# Eğitim esnasında recall ve val_recall metriclerini takip edebilmek maksadıyle hedef labelımızı 1 olarak düzenledik.\n",
        "# Loss değeri modelin yaptıkları tahminleri ne kadar yüksek olasılıklarla yaptığını gösterir. Model tüm tahminlerini 1.0 olasılıkla yapmışsa loss değeri 0 olur.\n",
        "# loss = 1/n x (log(olasılık_1) + log(olasılık_2) + log(olasılık_3)+......+ log(olasılık_n))\n",
        "# loss ve val_loss değeri 0 ve 1 classlarının ortak skorunu döndürür. O yüzden çok dengesiz datasetlerinde çoğunluk sınıfın loss değeri daha ağırlıklı olacağından\n",
        "# loss ve val_loss değerlerine bakılarak overfiting kararı verilmez. Ancak class_weight yapılırsa loss değerleri dikkate alınabilir.\n",
        "# recall ve precision metriclerine göre overfiting kararı verilir."
      ],
      "metadata": {
        "colab": {
          "base_uri": "https://localhost:8080/"
        },
        "id": "-HoW19w4adw4",
        "outputId": "ecd5ffef-dd73-4cf1-cb5d-42aebc3cd108"
      },
      "execution_count": null,
      "outputs": [
        {
          "output_type": "stream",
          "name": "stdout",
          "text": [
            "Epoch 1/3\n",
            "6849/6849 [==============================] - 792s 102ms/step - loss: 0.3973 - recall: 0.6873 - val_loss: 0.1951 - val_recall: 0.7142\n",
            "Epoch 2/3\n",
            "6849/6849 [==============================] - 642s 94ms/step - loss: 0.1109 - recall: 0.7020 - val_loss: 0.1619 - val_recall: 0.7668\n",
            "Epoch 3/3\n",
            "6849/6849 [==============================] - 643s 94ms/step - loss: 0.0745 - recall: 0.7880 - val_loss: 0.2264 - val_recall: 0.8048\n"
          ]
        },
        {
          "output_type": "execute_result",
          "data": {
            "text/plain": [
              "<keras.callbacks.History at 0x7f4481ebb460>"
            ]
          },
          "metadata": {},
          "execution_count": 47
        }
      ]
    },
    {
      "cell_type": "code",
      "execution_count": null,
      "metadata": {
        "id": "YxZ_YPsK61ll"
      },
      "outputs": [],
      "source": [
        "#history = model3.fit(\n",
        "   # train_ds2, validation_data= val_ds, class_weight= {0:1, 1:4},\n",
        "   # epochs=1) #epoch= 2 or 3"
      ]
    },
    {
      "cell_type": "markdown",
      "metadata": {
        "id": "LjsWW1VAmPxK"
      },
      "source": [
        "## Model evaluation"
      ]
    },
    {
      "cell_type": "code",
      "source": [
        "model_loss = pd.DataFrame(model3.history.history)\n",
        "model_loss.head()"
      ],
      "metadata": {
        "colab": {
          "base_uri": "https://localhost:8080/",
          "height": 143
        },
        "id": "4JFX2J671Ywf",
        "outputId": "b1d8d723-23d6-4bc9-bc22-e50ad1a2ad09"
      },
      "execution_count": null,
      "outputs": [
        {
          "output_type": "execute_result",
          "data": {
            "text/plain": [
              "       loss    recall  val_loss  val_recall\n",
              "0  0.397260  0.687277  0.195114    0.714181\n",
              "1  0.110898  0.701982  0.161918    0.766813\n",
              "2  0.074458  0.788024  0.226395    0.804825"
            ],
            "text/html": [
              "\n",
              "  <div id=\"df-2145cd86-97d0-4d5b-8f54-93122b72d959\">\n",
              "    <div class=\"colab-df-container\">\n",
              "      <div>\n",
              "<style scoped>\n",
              "    .dataframe tbody tr th:only-of-type {\n",
              "        vertical-align: middle;\n",
              "    }\n",
              "\n",
              "    .dataframe tbody tr th {\n",
              "        vertical-align: top;\n",
              "    }\n",
              "\n",
              "    .dataframe thead th {\n",
              "        text-align: right;\n",
              "    }\n",
              "</style>\n",
              "<table border=\"1\" class=\"dataframe\">\n",
              "  <thead>\n",
              "    <tr style=\"text-align: right;\">\n",
              "      <th></th>\n",
              "      <th>loss</th>\n",
              "      <th>recall</th>\n",
              "      <th>val_loss</th>\n",
              "      <th>val_recall</th>\n",
              "    </tr>\n",
              "  </thead>\n",
              "  <tbody>\n",
              "    <tr>\n",
              "      <th>0</th>\n",
              "      <td>0.397260</td>\n",
              "      <td>0.687277</td>\n",
              "      <td>0.195114</td>\n",
              "      <td>0.714181</td>\n",
              "    </tr>\n",
              "    <tr>\n",
              "      <th>1</th>\n",
              "      <td>0.110898</td>\n",
              "      <td>0.701982</td>\n",
              "      <td>0.161918</td>\n",
              "      <td>0.766813</td>\n",
              "    </tr>\n",
              "    <tr>\n",
              "      <th>2</th>\n",
              "      <td>0.074458</td>\n",
              "      <td>0.788024</td>\n",
              "      <td>0.226395</td>\n",
              "      <td>0.804825</td>\n",
              "    </tr>\n",
              "  </tbody>\n",
              "</table>\n",
              "</div>\n",
              "      <button class=\"colab-df-convert\" onclick=\"convertToInteractive('df-2145cd86-97d0-4d5b-8f54-93122b72d959')\"\n",
              "              title=\"Convert this dataframe to an interactive table.\"\n",
              "              style=\"display:none;\">\n",
              "        \n",
              "  <svg xmlns=\"http://www.w3.org/2000/svg\" height=\"24px\"viewBox=\"0 0 24 24\"\n",
              "       width=\"24px\">\n",
              "    <path d=\"M0 0h24v24H0V0z\" fill=\"none\"/>\n",
              "    <path d=\"M18.56 5.44l.94 2.06.94-2.06 2.06-.94-2.06-.94-.94-2.06-.94 2.06-2.06.94zm-11 1L8.5 8.5l.94-2.06 2.06-.94-2.06-.94L8.5 2.5l-.94 2.06-2.06.94zm10 10l.94 2.06.94-2.06 2.06-.94-2.06-.94-.94-2.06-.94 2.06-2.06.94z\"/><path d=\"M17.41 7.96l-1.37-1.37c-.4-.4-.92-.59-1.43-.59-.52 0-1.04.2-1.43.59L10.3 9.45l-7.72 7.72c-.78.78-.78 2.05 0 2.83L4 21.41c.39.39.9.59 1.41.59.51 0 1.02-.2 1.41-.59l7.78-7.78 2.81-2.81c.8-.78.8-2.07 0-2.86zM5.41 20L4 18.59l7.72-7.72 1.47 1.35L5.41 20z\"/>\n",
              "  </svg>\n",
              "      </button>\n",
              "      \n",
              "  <style>\n",
              "    .colab-df-container {\n",
              "      display:flex;\n",
              "      flex-wrap:wrap;\n",
              "      gap: 12px;\n",
              "    }\n",
              "\n",
              "    .colab-df-convert {\n",
              "      background-color: #E8F0FE;\n",
              "      border: none;\n",
              "      border-radius: 50%;\n",
              "      cursor: pointer;\n",
              "      display: none;\n",
              "      fill: #1967D2;\n",
              "      height: 32px;\n",
              "      padding: 0 0 0 0;\n",
              "      width: 32px;\n",
              "    }\n",
              "\n",
              "    .colab-df-convert:hover {\n",
              "      background-color: #E2EBFA;\n",
              "      box-shadow: 0px 1px 2px rgba(60, 64, 67, 0.3), 0px 1px 3px 1px rgba(60, 64, 67, 0.15);\n",
              "      fill: #174EA6;\n",
              "    }\n",
              "\n",
              "    [theme=dark] .colab-df-convert {\n",
              "      background-color: #3B4455;\n",
              "      fill: #D2E3FC;\n",
              "    }\n",
              "\n",
              "    [theme=dark] .colab-df-convert:hover {\n",
              "      background-color: #434B5C;\n",
              "      box-shadow: 0px 1px 3px 1px rgba(0, 0, 0, 0.15);\n",
              "      filter: drop-shadow(0px 1px 2px rgba(0, 0, 0, 0.3));\n",
              "      fill: #FFFFFF;\n",
              "    }\n",
              "  </style>\n",
              "\n",
              "      <script>\n",
              "        const buttonEl =\n",
              "          document.querySelector('#df-2145cd86-97d0-4d5b-8f54-93122b72d959 button.colab-df-convert');\n",
              "        buttonEl.style.display =\n",
              "          google.colab.kernel.accessAllowed ? 'block' : 'none';\n",
              "\n",
              "        async function convertToInteractive(key) {\n",
              "          const element = document.querySelector('#df-2145cd86-97d0-4d5b-8f54-93122b72d959');\n",
              "          const dataTable =\n",
              "            await google.colab.kernel.invokeFunction('convertToInteractive',\n",
              "                                                     [key], {});\n",
              "          if (!dataTable) return;\n",
              "\n",
              "          const docLinkHtml = 'Like what you see? Visit the ' +\n",
              "            '<a target=\"_blank\" href=https://colab.research.google.com/notebooks/data_table.ipynb>data table notebook</a>'\n",
              "            + ' to learn more about interactive tables.';\n",
              "          element.innerHTML = '';\n",
              "          dataTable['output_type'] = 'display_data';\n",
              "          await google.colab.output.renderOutput(dataTable, element);\n",
              "          const docLink = document.createElement('div');\n",
              "          docLink.innerHTML = docLinkHtml;\n",
              "          element.appendChild(docLink);\n",
              "        }\n",
              "      </script>\n",
              "    </div>\n",
              "  </div>\n",
              "  "
            ]
          },
          "metadata": {},
          "execution_count": 49
        }
      ]
    },
    {
      "cell_type": "code",
      "source": [
        "model_loss.plot()\n",
        "\n",
        "# loss ve val_loss değeri 0 ve 1 classlarının ortak skorunu döndürür. O yüzden çok dengesiz datasetlerinde çoğunluk sınıfın loss değeri daha ağırlıklı olacağından\n",
        "# ağırlıklandırma yapmadan loss ve val_loss değerlerine bakılarak overfiting kararı verilmez.\n",
        "# recall ve precision metriclerine göre overfiting kararı verilir."
      ],
      "metadata": {
        "colab": {
          "base_uri": "https://localhost:8080/",
          "height": 283
        },
        "id": "lZ7r5MYR1ymG",
        "outputId": "eb7ed2ea-4a91-4725-fd0d-ddef9d700081"
      },
      "execution_count": null,
      "outputs": [
        {
          "output_type": "execute_result",
          "data": {
            "text/plain": [
              "<matplotlib.axes._subplots.AxesSubplot at 0x7f44802ef5e0>"
            ]
          },
          "metadata": {},
          "execution_count": 50
        },
        {
          "output_type": "display_data",
          "data": {
            "text/plain": [
              "<Figure size 432x288 with 1 Axes>"
            ],
            "image/png": "[encoded data removed]"
          },
          "metadata": {
            "needs_background": "light"
          }
        }
      ]
    },
    {
      "cell_type": "code",
      "execution_count": null,
      "metadata": {
        "colab": {
          "base_uri": "https://localhost:8080/"
        },
        "id": "Po2U0-F_D1ks",
        "outputId": "31a8565a-7b47-4fef-be74-6f908d640fe7"
      },
      "outputs": [
        {
          "output_type": "stream",
          "name": "stdout",
          "text": [
            "761/761 [==============================] - 30s 33ms/step\n",
            "              precision    recall  f1-score   support\n",
            "\n",
            "           0       0.99      0.99      0.99     22982\n",
            "           1       0.79      0.80      0.80      1368\n",
            "\n",
            "    accuracy                           0.98     24350\n",
            "   macro avg       0.89      0.90      0.89     24350\n",
            "weighted avg       0.98      0.98      0.98     24350\n",
            "\n"
          ]
        }
      ],
      "source": [
        "from sklearn.metrics import classification_report, confusion_matrix\n",
        "\n",
        "y_pred = model3.predict(val_ds) >= 0.5\n",
        "\n",
        "\n",
        "print(classification_report(y_test, y_pred))"
      ]
    },
    {
      "cell_type": "code",
      "source": [
        "y_train_pred = model3.predict(train_ds) >= 0.5\n",
        "\n",
        "\n",
        "print(classification_report(y_train, y_train_pred)) \n",
        "\n",
        "# train datasının scorları için karılmamış train_ds datasını kullanıyoruz."
      ],
      "metadata": {
        "colab": {
          "base_uri": "https://localhost:8080/"
        },
        "id": "He4zMpFO6cJE",
        "outputId": "aca79a4b-a1ee-48b2-c1f5-9fd56fd1f7aa"
      },
      "execution_count": null,
      "outputs": [
        {
          "output_type": "stream",
          "name": "stdout",
          "text": [
            "6849/6849 [==============================] - 188s 27ms/step\n",
            "              precision    recall  f1-score   support\n",
            "\n",
            "           0       0.99      0.99      0.99    206839\n",
            "           1       0.87      0.87      0.87     12308\n",
            "\n",
            "    accuracy                           0.99    219147\n",
            "   macro avg       0.93      0.93      0.93    219147\n",
            "weighted avg       0.99      0.99      0.99    219147\n",
            "\n"
          ]
        }
      ]
    },
    {
      "cell_type": "code",
      "execution_count": null,
      "metadata": {
        "id": "GVdM_75GXciM"
      },
      "outputs": [],
      "source": []
    },
    {
      "cell_type": "code",
      "source": [
        "from sklearn.metrics import PrecisionRecallDisplay\n",
        "import matplotlib.pyplot as plt\n",
        "\n",
        "y_pred_proba = model3.predict(val_ds)\n",
        "\n",
        "PrecisionRecallDisplay.from_predictions(y_test, y_pred_proba)\n",
        "plt.show();"
      ],
      "metadata": {
        "id": "LmtIvNaBKE6J",
        "colab": {
          "base_uri": "https://localhost:8080/",
          "height": 297
        },
        "outputId": "4c129550-aef3-44b9-cee5-613c4dbfa3a9"
      },
      "execution_count": null,
      "outputs": [
        {
          "output_type": "stream",
          "name": "stdout",
          "text": [
            "761/761 [==============================] - 21s 27ms/step\n"
          ]
        },
        {
          "output_type": "display_data",
          "data": {
            "text/plain": [
              "<Figure size 432x288 with 1 Axes>"
            ],
            "image/png": "[encoded data removed]"
          },
          "metadata": {
            "needs_background": "light"
          }
        }
      ]
    },
    {
      "cell_type": "code",
      "source": [
        "model3.save_weights(\"/content/drive/MyDrive/sentiment_model.h5\")\n",
        "\n",
        "# Eğitim sonrası elde ettiğimiz model ağırlıklarını/katsayılarını save_weights fonksiyonu ile drive yolunu/ismini vererek drive kaydediyoruz."
      ],
      "metadata": {
        "id": "7q5noZ4C7Bdi"
      },
      "execution_count": null,
      "outputs": []
    },
    {
      "cell_type": "code",
      "execution_count": null,
      "metadata": {
        "id": "_B6Sv63_H3we",
        "colab": {
          "base_uri": "https://localhost:8080/"
        },
        "outputId": "7fbf49c0-8aac-4cd0-c476-0dc21fd26947"
      },
      "outputs": [
        {
          "output_type": "stream",
          "name": "stderr",
          "text": [
            "Some layers from the model checkpoint at dbmdz/bert-base-turkish-uncased were not used when initializing TFBertModel: ['mlm___cls', 'nsp___cls']\n",
            "- This IS expected if you are initializing TFBertModel from the checkpoint of a model trained on another task or with another architecture (e.g. initializing a BertForSequenceClassification model from a BertForPreTraining model).\n",
            "- This IS NOT expected if you are initializing TFBertModel from the checkpoint of a model that you expect to be exactly identical (initializing a BertForSequenceClassification model from a BertForSequenceClassification model).\n",
            "All the layers of TFBertModel were initialized from the model checkpoint at dbmdz/bert-base-turkish-uncased.\n",
            "If your task is similar to the task the model of the checkpoint was trained on, you can already use TFBertModel for predictions without further training.\n"
          ]
        }
      ],
      "source": [
        "with strategy.scope():\n",
        "\n",
        "  model4 = create_model()\n",
        "  model4.load_weights(\"/content/drive/MyDrive/sentiment_model.h5\")\n",
        "\n",
        "# Drive kaydettiğimiz model ağırlıklarını/katsayılarını yüklemeden önce yukarıda create_model fonksiyonu altına tanımladığımız BERT modeli kuruyoruz.\n",
        "# Kurduğumuz bu modeli model4 değişkenine atıp eğitilmemiş olan bu modele ağırlık/katsayıları yüklüyoruz."
      ]
    },
    {
      "cell_type": "markdown",
      "source": [
        "## Predictions"
      ],
      "metadata": {
        "id": "SYxh9RqsfOsR"
      }
    },
    {
      "cell_type": "code",
      "source": [
        "# train ve test datasının gruplandırılmış tenserflow tensörlerine dönüştürülme işlemlerinin aynısını sırasıyla predict edeceğimiz observationlara(obs) aynen uyguluyoruz.\n",
        "\n",
        "def prep_data(text):\n",
        "  import tensorflow as tf\n",
        "  \n",
        "  # 1. Predict edeceğimiz yeni gözlemleri öncelikle token embeddings (input_ids) ve position embeddings (attention_mask) matrixlerine dönüştürüyoruz.\n",
        "  #    Bu fonksiyonu kullanabilmek için öncelikle transformation funksiyonunu çalıştırmanız gerektiğini unutmayın.\n",
        "  Xids_obs, Xmask_obs = transformation(text) \n",
        "  \n",
        "  # 2. Xids_obs, Xmask_obs matrixlerimizi gruplandırılmış tenserflow tensörlerine dönüştürüyoruz.\n",
        "  dataset_obs = tf.data.Dataset.from_tensor_slices((Xids_obs, Xmask_obs))\n",
        "  \n",
        "  # 3. Dönüştürdüğümüz gruplandırılmış tensorflow tensörlerini modelin tanıyabilmesi için \"input_ids\" ve \"attention_mask\" olarak isimlendiriyoruz.\n",
        "  def map_func(Tensor_Xids, Tensor_Xmask):\n",
        "       return {'input_ids': Tensor_Xids, 'attention_mask': Tensor_Xmask}\n",
        "  \n",
        "  dataset_obs = dataset_obs.map(map_func)\n",
        "\n",
        "  # 4. Son aşama olarak gruplandırılmış tensorflow tensörlerimizi train datasında olduğu gibi 32'li paketler haline getiriyoruz. Yoksa shape uyumsuzluk hatası alırız. \n",
        "  batch_size = 32 # eğitim datasına uygulanan batch_size'ı uyguluyoruz.\n",
        "  obs_ds = dataset_obs.batch(batch_size)\n",
        "\n",
        "  return obs_ds "
      ],
      "metadata": {
        "id": "nCFWJudaAGKI"
      },
      "execution_count": null,
      "outputs": []
    },
    {
      "cell_type": "code",
      "execution_count": null,
      "metadata": {
        "id": "-tbmF2a5QZHD"
      },
      "outputs": [],
      "source": [
        "review1 = \"çok beğendim herkese tavsiye ederim\"\n",
        "review2 = \"süper ürün aynı gün elime geçti\"\n",
        "review3 = \"büyük bir hayal kırıklığı yaşadım bu ürünü bu markaya yakıştıramadım\"\n",
        "review4 = \"kelimelerle tarif edilemez\"\n",
        "review5 = \"tasarımı harika ancak kargo çok geç geldi ve ürün açılmıştı hayal kırıklığı gerçekten\"\n",
        "review6 = \"hiç resimde gösterildiği gibi değil\"\n",
        "review7 = \"kötü yorumlar gözümü korkutmuştu ancak hiçbir sorun yaşamadım teşekkürler\"\n",
        "review8 = \"hiç bu kadar kötü bir satıcıya denk gelmemiştim ürün siparişimi iptal ediyorum\"\n",
        "review9 = \"tam bir fiyat performans ürünü\"\n",
        "review10 = \"beklediğim gibi çıkmadı\"\n",
        "review11 = \"on numara beş yıldız\"\n",
        "review12 = \"bu kargoyu biran önce bırakın. yoksa üründe sıkıntı yok\"\n",
        "review13 = \"televizyonun görüntü kalitesi çok kötü, dün akşam evde arkadaşlarla toplandık. yedik, içtik, sohbet ettik. Sonra televizyonda Türkiye - İngiltere maçını seyrettik. \"\n",
        "review14 = '1 gün gibi kısa bir sürede elime geçti. Ve bu fıyata süper bir ürün tavsiye ederim. Lakin eli büyük olan kişiler daha büyük modelini tercih edebilirler ortaboy ürün. Teşekkürler '\n",
        "review15 = \"alınca anlarsın hanyayı konyayı\"\n",
        "review16 = \"çöpe atacak paran varsa al\"\n",
        "review17=  \"Telefon çok da kötü değil\"\n",
        "review18 = \"al da gününü gör\"\n",
        "review19 = \"Ürün harika ama satıcı ve kargo berbat\"\n",
        "review20 = \"kargo süper ama ürün berbat\"\n",
        "review21 = \"Aldigim TV cok kaliteli diye dusunmustum, sonradan cok da iyi bir TV olmadigini dusundum, ama neyse yine de memnunum.\"\n",
        "review22 = \"😊\"\n",
        "review23 = \":)\"\n",
        "review24 = \"I ❤️ you\"\n",
        "review25 = 'telefon kesinlikle bu parayı hak etmiyor. yeni hiç bir özelliği yok. ancak küçük ekran sevenler için iyi bir telefon'\n",
        "review26 = 'müthiş bir telefon ama bu parayı hak etmiyor'\n",
        "reviews = [review1, review2, review3, review4, review5, review6, review7, review8, review9, review10, review11, review12, review13, review14, review15, review16, review17, \n",
        "           review18, review19, review20, review21, review22, review23, review24, review25, review26] \n",
        "\n",
        "# oluşturduğumuz tüm yorumları bir array veya list içerisine alıyoruz."
      ]
    },
    {
      "cell_type": "code",
      "source": [
        "obs_ds = prep_data(reviews)\n",
        "\n",
        "# Datamızı gruplandırılmış tensorflow tensörlerine dönüştürüyoruz."
      ],
      "metadata": {
        "id": "zmrbCbaeFRuR"
      },
      "execution_count": null,
      "outputs": []
    },
    {
      "cell_type": "code",
      "source": [
        "probs = model4.predict(obs_ds)\n",
        "probs\n",
        "\n",
        "# predictionlarımızı alıyoruz."
      ],
      "metadata": {
        "colab": {
          "base_uri": "https://localhost:8080/"
        },
        "id": "JxuWs6YQFior",
        "outputId": "9d163224-98df-4ac2-e496-150d9d366b07"
      },
      "execution_count": null,
      "outputs": [
        {
          "output_type": "stream",
          "name": "stdout",
          "text": [
            "1/1 [==============================] - 11s 11s/step\n"
          ]
        },
        {
          "output_type": "execute_result",
          "data": {
            "text/plain": [
              "array([[0.00191668],\n",
              "       [0.00244144],\n",
              "       [1.        ],\n",
              "       [0.00394079],\n",
              "       [1.        ],\n",
              "       [1.        ],\n",
              "       [0.00254443],\n",
              "       [1.        ],\n",
              "       [0.00191084],\n",
              "       [1.        ],\n",
              "       [0.00194392],\n",
              "       [0.0060094 ],\n",
              "       [1.        ],\n",
              "       [0.00588924],\n",
              "       [0.01312417],\n",
              "       [0.99999964],\n",
              "       [1.        ],\n",
              "       [0.00364152],\n",
              "       [0.00501165],\n",
              "       [1.        ],\n",
              "       [0.00871927],\n",
              "       [0.00384054],\n",
              "       [0.00215083],\n",
              "       [0.0033173 ],\n",
              "       [1.        ],\n",
              "       [0.3494659 ]], dtype=float32)"
            ]
          },
          "metadata": {},
          "execution_count": 60
        }
      ]
    },
    {
      "cell_type": "code",
      "source": [
        "probs = [i[0] for i in probs]\n",
        "probs"
      ],
      "metadata": {
        "colab": {
          "base_uri": "https://localhost:8080/"
        },
        "id": "zG-lZ5njKqM5",
        "outputId": "67ecbc18-36ed-4d93-8a9f-90beb81778fb"
      },
      "execution_count": null,
      "outputs": [
        {
          "output_type": "execute_result",
          "data": {
            "text/plain": [
              "[0.0019166768,\n",
              " 0.002441436,\n",
              " 1.0,\n",
              " 0.003940791,\n",
              " 1.0,\n",
              " 1.0,\n",
              " 0.0025444329,\n",
              " 1.0,\n",
              " 0.0019108355,\n",
              " 1.0,\n",
              " 0.0019439161,\n",
              " 0.0060094,\n",
              " 1.0,\n",
              " 0.005889237,\n",
              " 0.013124168,\n",
              " 0.99999964,\n",
              " 1.0,\n",
              " 0.003641516,\n",
              " 0.005011648,\n",
              " 1.0,\n",
              " 0.008719265,\n",
              " 0.0038405359,\n",
              " 0.0021508336,\n",
              " 0.0033172965,\n",
              " 1.0,\n",
              " 0.3494659]"
            ]
          },
          "metadata": {},
          "execution_count": 61
        }
      ]
    },
    {
      "cell_type": "code",
      "source": [],
      "metadata": {
        "id": "C4K7UIYqLRiY"
      },
      "execution_count": null,
      "outputs": []
    },
    {
      "cell_type": "code",
      "execution_count": null,
      "metadata": {
        "id": "dxgMYBczYyNC",
        "colab": {
          "base_uri": "https://localhost:8080/"
        },
        "outputId": "6dcbb18c-72a8-4af9-f014-904efd199e42"
      },
      "outputs": [
        {
          "output_type": "execute_result",
          "data": {
            "text/plain": [
              "array([0, 0, 1, 0, 1, 1, 0, 1, 0, 1, 0, 0, 1, 0, 0, 1, 1, 0, 0, 1, 0, 0,\n",
              "       0, 0, 1, 0])"
            ]
          },
          "metadata": {},
          "execution_count": 62
        }
      ],
      "source": [
        "classes  = (np.array(probs) >= 0.5).astype(\"int\")\n",
        "classes"
      ]
    },
    {
      "cell_type": "code",
      "execution_count": null,
      "metadata": {
        "id": "IgH72FPhYyBr"
      },
      "outputs": [],
      "source": [
        "my_dict = {\"Review\":reviews, \"prob\":probs, \"classes\":classes}"
      ]
    },
    {
      "cell_type": "code",
      "execution_count": null,
      "metadata": {
        "id": "TLeukDeMYx1o",
        "colab": {
          "base_uri": "https://localhost:8080/",
          "height": 864
        },
        "outputId": "7302e941-0c78-4896-adab-cf7e97f7ed4b"
      },
      "outputs": [
        {
          "output_type": "execute_result",
          "data": {
            "text/plain": [
              "                                                                                                                                                                                Review  \\\n",
              "0                                                                                                                                                  çok beğendim herkese tavsiye ederim   \n",
              "1                                                                                                                                                      süper ürün aynı gün elime geçti   \n",
              "2                                                                                                                 büyük bir hayal kırıklığı yaşadım bu ürünü bu markaya yakıştıramadım   \n",
              "3                                                                                                                                                           kelimelerle tarif edilemez   \n",
              "4                                                                                                tasarımı harika ancak kargo çok geç geldi ve ürün açılmıştı hayal kırıklığı gerçekten   \n",
              "5                                                                                                                                                  hiç resimde gösterildiği gibi değil   \n",
              "6                                                                                                            kötü yorumlar gözümü korkutmuştu ancak hiçbir sorun yaşamadım teşekkürler   \n",
              "7                                                                                                       hiç bu kadar kötü bir satıcıya denk gelmemiştim ürün siparişimi iptal ediyorum   \n",
              "8                                                                                                                                                       tam bir fiyat performans ürünü   \n",
              "9                                                                                                                                                              beklediğim gibi çıkmadı   \n",
              "10                                                                                                                                                                on numara beş yıldız   \n",
              "11                                                                                                                             bu kargoyu biran önce bırakın. yoksa üründe sıkıntı yok   \n",
              "12                televizyonun görüntü kalitesi çok kötü, dün akşam evde arkadaşlarla toplandık. yedik, içtik, sohbet ettik. Sonra televizyonda Türkiye - İngiltere maçını seyrettik.    \n",
              "13  1 gün gibi kısa bir sürede elime geçti. Ve bu fıyata süper bir ürün tavsiye ederim. Lakin eli büyük olan kişiler daha büyük modelini tercih edebilirler ortaboy ürün. Teşekkürler    \n",
              "14                                                                                                                                                      alınca anlarsın anyayı konyayı   \n",
              "15                                                                                                                                                          çöpe atacak paran varsa al   \n",
              "16                                                                                                                                                           Telefon çok da kötü değil   \n",
              "17                                                                                                                                                                    al da gününü gör   \n",
              "18                                                                                                                                              Ürün harika ama satıcı ve kargo berbat   \n",
              "19                                                                                                                                                         kargo süper ama ürün berbat   \n",
              "20                                                               Aldigim TV cok kaliteli diye dusunmustum, sonradan cok da iyi bir TV olmadigini dusundum, ama neyse yine de memnunum.   \n",
              "21                                                                                                                                                                                   😊   \n",
              "22                                                                                                                                                                                  :)   \n",
              "23                                                                                                                                                                            I ❤️ you   \n",
              "24                                                                telefon kesinlikle bu parayı hak etmiyor. yeni hiç bir özelliği yok. ancak küçük ekran sevenler için iyi bir telefon   \n",
              "25                                                                                                                                        müthiş bir telefon ama bu parayı hak etmiyor   \n",
              "\n",
              "        prob  classes  \n",
              "0   0.001917        0  \n",
              "1   0.002441        0  \n",
              "2   1.000000        1  \n",
              "3   0.003941        0  \n",
              "4   1.000000        1  \n",
              "5   1.000000        1  \n",
              "6   0.002544        0  \n",
              "7   1.000000        1  \n",
              "8   0.001911        0  \n",
              "9   1.000000        1  \n",
              "10  0.001944        0  \n",
              "11  0.006009        0  \n",
              "12  1.000000        1  \n",
              "13  0.005889        0  \n",
              "14  0.013124        0  \n",
              "15  1.000000        1  \n",
              "16  1.000000        1  \n",
              "17  0.003642        0  \n",
              "18  0.005012        0  \n",
              "19  1.000000        1  \n",
              "20  0.008719        0  \n",
              "21  0.003841        0  \n",
              "22  0.002151        0  \n",
              "23  0.003317        0  \n",
              "24  1.000000        1  \n",
              "25  0.349466        0  "
            ],
            "text/html": [
              "\n",
              "  <div id=\"df-c5fd0557-51c2-43d8-ba96-2a9992d986cd\">\n",
              "    <div class=\"colab-df-container\">\n",
              "      <div>\n",
              "<style scoped>\n",
              "    .dataframe tbody tr th:only-of-type {\n",
              "        vertical-align: middle;\n",
              "    }\n",
              "\n",
              "    .dataframe tbody tr th {\n",
              "        vertical-align: top;\n",
              "    }\n",
              "\n",
              "    .dataframe thead th {\n",
              "        text-align: right;\n",
              "    }\n",
              "</style>\n",
              "<table border=\"1\" class=\"dataframe\">\n",
              "  <thead>\n",
              "    <tr style=\"text-align: right;\">\n",
              "      <th></th>\n",
              "      <th>Review</th>\n",
              "      <th>prob</th>\n",
              "      <th>classes</th>\n",
              "    </tr>\n",
              "  </thead>\n",
              "  <tbody>\n",
              "    <tr>\n",
              "      <th>0</th>\n",
              "      <td>çok beğendim herkese tavsiye ederim</td>\n",
              "      <td>0.001917</td>\n",
              "      <td>0</td>\n",
              "    </tr>\n",
              "    <tr>\n",
              "      <th>1</th>\n",
              "      <td>süper ürün aynı gün elime geçti</td>\n",
              "      <td>0.002441</td>\n",
              "      <td>0</td>\n",
              "    </tr>\n",
              "    <tr>\n",
              "      <th>2</th>\n",
              "      <td>büyük bir hayal kırıklığı yaşadım bu ürünü bu markaya yakıştıramadım</td>\n",
              "      <td>1.000000</td>\n",
              "      <td>1</td>\n",
              "    </tr>\n",
              "    <tr>\n",
              "      <th>3</th>\n",
              "      <td>kelimelerle tarif edilemez</td>\n",
              "      <td>0.003941</td>\n",
              "      <td>0</td>\n",
              "    </tr>\n",
              "    <tr>\n",
              "      <th>4</th>\n",
              "      <td>tasarımı harika ancak kargo çok geç geldi ve ürün açılmıştı hayal kırıklığı gerçekten</td>\n",
              "      <td>1.000000</td>\n",
              "      <td>1</td>\n",
              "    </tr>\n",
              "    <tr>\n",
              "      <th>5</th>\n",
              "      <td>hiç resimde gösterildiği gibi değil</td>\n",
              "      <td>1.000000</td>\n",
              "      <td>1</td>\n",
              "    </tr>\n",
              "    <tr>\n",
              "      <th>6</th>\n",
              "      <td>kötü yorumlar gözümü korkutmuştu ancak hiçbir sorun yaşamadım teşekkürler</td>\n",
              "      <td>0.002544</td>\n",
              "      <td>0</td>\n",
              "    </tr>\n",
              "    <tr>\n",
              "      <th>7</th>\n",
              "      <td>hiç bu kadar kötü bir satıcıya denk gelmemiştim ürün siparişimi iptal ediyorum</td>\n",
              "      <td>1.000000</td>\n",
              "      <td>1</td>\n",
              "    </tr>\n",
              "    <tr>\n",
              "      <th>8</th>\n",
              "      <td>tam bir fiyat performans ürünü</td>\n",
              "      <td>0.001911</td>\n",
              "      <td>0</td>\n",
              "    </tr>\n",
              "    <tr>\n",
              "      <th>9</th>\n",
              "      <td>beklediğim gibi çıkmadı</td>\n",
              "      <td>1.000000</td>\n",
              "      <td>1</td>\n",
              "    </tr>\n",
              "    <tr>\n",
              "      <th>10</th>\n",
              "      <td>on numara beş yıldız</td>\n",
              "      <td>0.001944</td>\n",
              "      <td>0</td>\n",
              "    </tr>\n",
              "    <tr>\n",
              "      <th>11</th>\n",
              "      <td>bu kargoyu biran önce bırakın. yoksa üründe sıkıntı yok</td>\n",
              "      <td>0.006009</td>\n",
              "      <td>0</td>\n",
              "    </tr>\n",
              "    <tr>\n",
              "      <th>12</th>\n",
              "      <td>televizyonun görüntü kalitesi çok kötü, dün akşam evde arkadaşlarla toplandık. yedik, içtik, sohbet ettik. Sonra televizyonda Türkiye - İngiltere maçını seyrettik.</td>\n",
              "      <td>1.000000</td>\n",
              "      <td>1</td>\n",
              "    </tr>\n",
              "    <tr>\n",
              "      <th>13</th>\n",
              "      <td>1 gün gibi kısa bir sürede elime geçti. Ve bu fıyata süper bir ürün tavsiye ederim. Lakin eli büyük olan kişiler daha büyük modelini tercih edebilirler ortaboy ürün. Teşekkürler</td>\n",
              "      <td>0.005889</td>\n",
              "      <td>0</td>\n",
              "    </tr>\n",
              "    <tr>\n",
              "      <th>14</th>\n",
              "      <td>alınca anlarsın anyayı konyayı</td>\n",
              "      <td>0.013124</td>\n",
              "      <td>0</td>\n",
              "    </tr>\n",
              "    <tr>\n",
              "      <th>15</th>\n",
              "      <td>çöpe atacak paran varsa al</td>\n",
              "      <td>1.000000</td>\n",
              "      <td>1</td>\n",
              "    </tr>\n",
              "    <tr>\n",
              "      <th>16</th>\n",
              "      <td>Telefon çok da kötü değil</td>\n",
              "      <td>1.000000</td>\n",
              "      <td>1</td>\n",
              "    </tr>\n",
              "    <tr>\n",
              "      <th>17</th>\n",
              "      <td>al da gününü gör</td>\n",
              "      <td>0.003642</td>\n",
              "      <td>0</td>\n",
              "    </tr>\n",
              "    <tr>\n",
              "      <th>18</th>\n",
              "      <td>Ürün harika ama satıcı ve kargo berbat</td>\n",
              "      <td>0.005012</td>\n",
              "      <td>0</td>\n",
              "    </tr>\n",
              "    <tr>\n",
              "      <th>19</th>\n",
              "      <td>kargo süper ama ürün berbat</td>\n",
              "      <td>1.000000</td>\n",
              "      <td>1</td>\n",
              "    </tr>\n",
              "    <tr>\n",
              "      <th>20</th>\n",
              "      <td>Aldigim TV cok kaliteli diye dusunmustum, sonradan cok da iyi bir TV olmadigini dusundum, ama neyse yine de memnunum.</td>\n",
              "      <td>0.008719</td>\n",
              "      <td>0</td>\n",
              "    </tr>\n",
              "    <tr>\n",
              "      <th>21</th>\n",
              "      <td>😊</td>\n",
              "      <td>0.003841</td>\n",
              "      <td>0</td>\n",
              "    </tr>\n",
              "    <tr>\n",
              "      <th>22</th>\n",
              "      <td>:)</td>\n",
              "      <td>0.002151</td>\n",
              "      <td>0</td>\n",
              "    </tr>\n",
              "    <tr>\n",
              "      <th>23</th>\n",
              "      <td>I ❤️ you</td>\n",
              "      <td>0.003317</td>\n",
              "      <td>0</td>\n",
              "    </tr>\n",
              "    <tr>\n",
              "      <th>24</th>\n",
              "      <td>telefon kesinlikle bu parayı hak etmiyor. yeni hiç bir özelliği yok. ancak küçük ekran sevenler için iyi bir telefon</td>\n",
              "      <td>1.000000</td>\n",
              "      <td>1</td>\n",
              "    </tr>\n",
              "    <tr>\n",
              "      <th>25</th>\n",
              "      <td>müthiş bir telefon ama bu parayı hak etmiyor</td>\n",
              "      <td>0.349466</td>\n",
              "      <td>0</td>\n",
              "    </tr>\n",
              "  </tbody>\n",
              "</table>\n",
              "</div>\n",
              "      <button class=\"colab-df-convert\" onclick=\"convertToInteractive('df-c5fd0557-51c2-43d8-ba96-2a9992d986cd')\"\n",
              "              title=\"Convert this dataframe to an interactive table.\"\n",
              "              style=\"display:none;\">\n",
              "        \n",
              "  <svg xmlns=\"http://www.w3.org/2000/svg\" height=\"24px\"viewBox=\"0 0 24 24\"\n",
              "       width=\"24px\">\n",
              "    <path d=\"M0 0h24v24H0V0z\" fill=\"none\"/>\n",
              "    <path d=\"M18.56 5.44l.94 2.06.94-2.06 2.06-.94-2.06-.94-.94-2.06-.94 2.06-2.06.94zm-11 1L8.5 8.5l.94-2.06 2.06-.94-2.06-.94L8.5 2.5l-.94 2.06-2.06.94zm10 10l.94 2.06.94-2.06 2.06-.94-2.06-.94-.94-2.06-.94 2.06-2.06.94z\"/><path d=\"M17.41 7.96l-1.37-1.37c-.4-.4-.92-.59-1.43-.59-.52 0-1.04.2-1.43.59L10.3 9.45l-7.72 7.72c-.78.78-.78 2.05 0 2.83L4 21.41c.39.39.9.59 1.41.59.51 0 1.02-.2 1.41-.59l7.78-7.78 2.81-2.81c.8-.78.8-2.07 0-2.86zM5.41 20L4 18.59l7.72-7.72 1.47 1.35L5.41 20z\"/>\n",
              "  </svg>\n",
              "      </button>\n",
              "      \n",
              "  <style>\n",
              "    .colab-df-container {\n",
              "      display:flex;\n",
              "      flex-wrap:wrap;\n",
              "      gap: 12px;\n",
              "    }\n",
              "\n",
              "    .colab-df-convert {\n",
              "      background-color: #E8F0FE;\n",
              "      border: none;\n",
              "      border-radius: 50%;\n",
              "      cursor: pointer;\n",
              "      display: none;\n",
              "      fill: #1967D2;\n",
              "      height: 32px;\n",
              "      padding: 0 0 0 0;\n",
              "      width: 32px;\n",
              "    }\n",
              "\n",
              "    .colab-df-convert:hover {\n",
              "      background-color: #E2EBFA;\n",
              "      box-shadow: 0px 1px 2px rgba(60, 64, 67, 0.3), 0px 1px 3px 1px rgba(60, 64, 67, 0.15);\n",
              "      fill: #174EA6;\n",
              "    }\n",
              "\n",
              "    [theme=dark] .colab-df-convert {\n",
              "      background-color: #3B4455;\n",
              "      fill: #D2E3FC;\n",
              "    }\n",
              "\n",
              "    [theme=dark] .colab-df-convert:hover {\n",
              "      background-color: #434B5C;\n",
              "      box-shadow: 0px 1px 3px 1px rgba(0, 0, 0, 0.15);\n",
              "      filter: drop-shadow(0px 1px 2px rgba(0, 0, 0, 0.3));\n",
              "      fill: #FFFFFF;\n",
              "    }\n",
              "  </style>\n",
              "\n",
              "      <script>\n",
              "        const buttonEl =\n",
              "          document.querySelector('#df-c5fd0557-51c2-43d8-ba96-2a9992d986cd button.colab-df-convert');\n",
              "        buttonEl.style.display =\n",
              "          google.colab.kernel.accessAllowed ? 'block' : 'none';\n",
              "\n",
              "        async function convertToInteractive(key) {\n",
              "          const element = document.querySelector('#df-c5fd0557-51c2-43d8-ba96-2a9992d986cd');\n",
              "          const dataTable =\n",
              "            await google.colab.kernel.invokeFunction('convertToInteractive',\n",
              "                                                     [key], {});\n",
              "          if (!dataTable) return;\n",
              "\n",
              "          const docLinkHtml = 'Like what you see? Visit the ' +\n",
              "            '<a target=\"_blank\" href=https://colab.research.google.com/notebooks/data_table.ipynb>data table notebook</a>'\n",
              "            + ' to learn more about interactive tables.';\n",
              "          element.innerHTML = '';\n",
              "          dataTable['output_type'] = 'display_data';\n",
              "          await google.colab.output.renderOutput(dataTable, element);\n",
              "          const docLink = document.createElement('div');\n",
              "          docLink.innerHTML = docLinkHtml;\n",
              "          element.appendChild(docLink);\n",
              "        }\n",
              "      </script>\n",
              "    </div>\n",
              "  </div>\n",
              "  "
            ]
          },
          "metadata": {},
          "execution_count": 64
        }
      ],
      "source": [
        "pd.set_option('display.max_colwidth', None)\n",
        "pd.DataFrame(my_dict)"
      ]
    },
    {
      "cell_type": "code",
      "source": [
        "count=0\n",
        "for i in X_train:\n",
        "  if \"gününü gör\" in i.lower():\n",
        "    count+=1\n",
        "print(count)"
      ],
      "metadata": {
        "id": "d5ImVzx1sBVt",
        "colab": {
          "base_uri": "https://localhost:8080/"
        },
        "outputId": "d2e74147-45e3-4486-f286-b052f2f85b96"
      },
      "execution_count": null,
      "outputs": [
        {
          "output_type": "stream",
          "name": "stdout",
          "text": [
            "0\n"
          ]
        }
      ]
    },
    {
      "cell_type": "code",
      "source": [
        "count=0\n",
        "for i in X_train:\n",
        "  if \"hanyayı konyayı\" in i.lower():\n",
        "    count+=1\n",
        "print(count)"
      ],
      "metadata": {
        "id": "euKZ9NFPVmee",
        "colab": {
          "base_uri": "https://localhost:8080/"
        },
        "outputId": "15b2652f-1ed0-4079-a4fa-5fa3d7d635e7"
      },
      "execution_count": null,
      "outputs": [
        {
          "output_type": "stream",
          "name": "stdout",
          "text": [
            "0\n"
          ]
        }
      ]
    },
    {
      "cell_type": "code",
      "source": [
        "count=0\n",
        "for i, j in enumerate(X):\n",
        "  if \"çöpe atacak paran\" in j.lower() and y[i]==1:\n",
        "    count+=1\n",
        "    print(i)\n",
        "print(count)"
      ],
      "metadata": {
        "id": "hGjWw_xgsQVa",
        "colab": {
          "base_uri": "https://localhost:8080/"
        },
        "outputId": "59e0bb0f-0cd9-4749-f361-790ea96252d0"
      },
      "execution_count": null,
      "outputs": [
        {
          "output_type": "stream",
          "name": "stdout",
          "text": [
            "158068\n",
            "218693\n",
            "2\n"
          ]
        }
      ]
    },
    {
      "cell_type": "code",
      "source": [
        "X[158068]"
      ],
      "metadata": {
        "id": "jBcD3a0tCwAI",
        "colab": {
          "base_uri": "https://localhost:8080/",
          "height": 36
        },
        "outputId": "93b47627-1add-4058-fd8e-4ed3901e93a1"
      },
      "execution_count": null,
      "outputs": [
        {
          "output_type": "execute_result",
          "data": {
            "text/plain": [
              "'beş para etmez çöpe atacak paranız varsa alın'"
            ],
            "application/vnd.google.colaboratory.intrinsic+json": {
              "type": "string"
            }
          },
          "metadata": {},
          "execution_count": 68
        }
      ]
    },
    {
      "cell_type": "code",
      "source": [],
      "metadata": {
        "id": "JmvqTUzoVDMx"
      },
      "execution_count": null,
      "outputs": []
    }
  ],
  "metadata": {
    "accelerator": "TPU",
    "colab": {
      "provenance": []
    },
    "kernelspec": {
      "display_name": "Python 3 (ipykernel)",
      "language": "python",
      "name": "python3"
    },
    "language_info": {
      "codemirror_mode": {
        "name": "ipython",
        "version": 3
      },
      "file_extension": ".py",
      "mimetype": "text/x-python",
      "name": "python",
      "nbconvert_exporter": "python",
      "pygments_lexer": "ipython3",
      "version": "3.7.9"
    },
    "gpuClass": "standard",
    "widgets": {
      "application/vnd.jupyter.widget-state+json": {
        "0eac89dd169b4bc68638a7797b340664": {
          "model_module": "@jupyter-widgets/controls",
          "model_name": "HBoxModel",
          "model_module_version": "1.5.0",
          "state": {
            "_dom_classes": [],
            "_model_module": "@jupyter-widgets/controls",
            "_model_module_version": "1.5.0",
            "_model_name": "HBoxModel",
            "_view_count": null,
            "_view_module": "@jupyter-widgets/controls",
            "_view_module_version": "1.5.0",
            "_view_name": "HBoxView",
            "box_style": "",
            "children": [
              "IPY_MODEL_3e6aad1b9c4544f381cee0ecb7013512",
              "IPY_MODEL_b7d7f67001904e1c8ae6732f8ddb977a",
              "IPY_MODEL_cce7da016c664bdab39152d1cf29418a"
            ],
            "layout": "IPY_MODEL_a62524ef9f4f4e77bcf053b98734a48f"
          }
        },
        "3e6aad1b9c4544f381cee0ecb7013512": {
          "model_module": "@jupyter-widgets/controls",
          "model_name": "HTMLModel",
          "model_module_version": "1.5.0",
          "state": {
            "_dom_classes": [],
            "_model_module": "@jupyter-widgets/controls",
            "_model_module_version": "1.5.0",
            "_model_name": "HTMLModel",
            "_view_count": null,
            "_view_module": "@jupyter-widgets/controls",
            "_view_module_version": "1.5.0",
            "_view_name": "HTMLView",
            "description": "",
            "description_tooltip": null,
            "layout": "IPY_MODEL_0e9e422306ad4476ace3081074c66743",
            "placeholder": "​",
            "style": "IPY_MODEL_074454324947473899838de0975a9bee",
            "value": "Downloading (…)okenizer_config.json: 100%"
          }
        },
        "b7d7f67001904e1c8ae6732f8ddb977a": {
          "model_module": "@jupyter-widgets/controls",
          "model_name": "FloatProgressModel",
          "model_module_version": "1.5.0",
          "state": {
            "_dom_classes": [],
            "_model_module": "@jupyter-widgets/controls",
            "_model_module_version": "1.5.0",
            "_model_name": "FloatProgressModel",
            "_view_count": null,
            "_view_module": "@jupyter-widgets/controls",
            "_view_module_version": "1.5.0",
            "_view_name": "ProgressView",
            "bar_style": "success",
            "description": "",
            "description_tooltip": null,
            "layout": "IPY_MODEL_4c60f4e47ba349f995895fe3a4288b6c",
            "max": 59,
            "min": 0,
            "orientation": "horizontal",
            "style": "IPY_MODEL_18a1b6b1b73346a5ab5d0385c5bfe69b",
            "value": 59
          }
        },
        "cce7da016c664bdab39152d1cf29418a": {
          "model_module": "@jupyter-widgets/controls",
          "model_name": "HTMLModel",
          "model_module_version": "1.5.0",
          "state": {
            "_dom_classes": [],
            "_model_module": "@jupyter-widgets/controls",
            "_model_module_version": "1.5.0",
            "_model_name": "HTMLModel",
            "_view_count": null,
            "_view_module": "@jupyter-widgets/controls",
            "_view_module_version": "1.5.0",
            "_view_name": "HTMLView",
            "description": "",
            "description_tooltip": null,
            "layout": "IPY_MODEL_6fb2eb2426764a31a30f732a296fcb38",
            "placeholder": "​",
            "style": "IPY_MODEL_3b8b6c60bd9b44c891e6f1bcec14d1ee",
            "value": " 59.0/59.0 [00:00&lt;00:00, 1.99kB/s]"
          }
        },
        "a62524ef9f4f4e77bcf053b98734a48f": {
          "model_module": "@jupyter-widgets/base",
          "model_name": "LayoutModel",
          "model_module_version": "1.2.0",
          "state": {
            "_model_module": "@jupyter-widgets/base",
            "_model_module_version": "1.2.0",
            "_model_name": "LayoutModel",
            "_view_count": null,
            "_view_module": "@jupyter-widgets/base",
            "_view_module_version": "1.2.0",
            "_view_name": "LayoutView",
            "align_content": null,
            "align_items": null,
            "align_self": null,
            "border": null,
            "bottom": null,
            "display": null,
            "flex": null,
            "flex_flow": null,
            "grid_area": null,
            "grid_auto_columns": null,
            "grid_auto_flow": null,
            "grid_auto_rows": null,
            "grid_column": null,
            "grid_gap": null,
            "grid_row": null,
            "grid_template_areas": null,
            "grid_template_columns": null,
            "grid_template_rows": null,
            "height": null,
            "justify_content": null,
            "justify_items": null,
            "left": null,
            "margin": null,
            "max_height": null,
            "max_width": null,
            "min_height": null,
            "min_width": null,
            "object_fit": null,
            "object_position": null,
            "order": null,
            "overflow": null,
            "overflow_x": null,
            "overflow_y": null,
            "padding": null,
            "right": null,
            "top": null,
            "visibility": null,
            "width": null
          }
        },
        "0e9e422306ad4476ace3081074c66743": {
          "model_module": "@jupyter-widgets/base",
          "model_name": "LayoutModel",
          "model_module_version": "1.2.0",
          "state": {
            "_model_module": "@jupyter-widgets/base",
            "_model_module_version": "1.2.0",
            "_model_name": "LayoutModel",
            "_view_count": null,
            "_view_module": "@jupyter-widgets/base",
            "_view_module_version": "1.2.0",
            "_view_name": "LayoutView",
            "align_content": null,
            "align_items": null,
            "align_self": null,
            "border": null,
            "bottom": null,
            "display": null,
            "flex": null,
            "flex_flow": null,
            "grid_area": null,
            "grid_auto_columns": null,
            "grid_auto_flow": null,
            "grid_auto_rows": null,
            "grid_column": null,
            "grid_gap": null,
            "grid_row": null,
            "grid_template_areas": null,
            "grid_template_columns": null,
            "grid_template_rows": null,
            "height": null,
            "justify_content": null,
            "justify_items": null,
            "left": null,
            "margin": null,
            "max_height": null,
            "max_width": null,
            "min_height": null,
            "min_width": null,
            "object_fit": null,
            "object_position": null,
            "order": null,
            "overflow": null,
            "overflow_x": null,
            "overflow_y": null,
            "padding": null,
            "right": null,
            "top": null,
            "visibility": null,
            "width": null
          }
        },
        "074454324947473899838de0975a9bee": {
          "model_module": "@jupyter-widgets/controls",
          "model_name": "DescriptionStyleModel",
          "model_module_version": "1.5.0",
          "state": {
            "_model_module": "@jupyter-widgets/controls",
            "_model_module_version": "1.5.0",
            "_model_name": "DescriptionStyleModel",
            "_view_count": null,
            "_view_module": "@jupyter-widgets/base",
            "_view_module_version": "1.2.0",
            "_view_name": "StyleView",
            "description_width": ""
          }
        },
        "4c60f4e47ba349f995895fe3a4288b6c": {
          "model_module": "@jupyter-widgets/base",
          "model_name": "LayoutModel",
          "model_module_version": "1.2.0",
          "state": {
            "_model_module": "@jupyter-widgets/base",
            "_model_module_version": "1.2.0",
            "_model_name": "LayoutModel",
            "_view_count": null,
            "_view_module": "@jupyter-widgets/base",
            "_view_module_version": "1.2.0",
            "_view_name": "LayoutView",
            "align_content": null,
            "align_items": null,
            "align_self": null,
            "border": null,
            "bottom": null,
            "display": null,
            "flex": null,
            "flex_flow": null,
            "grid_area": null,
            "grid_auto_columns": null,
            "grid_auto_flow": null,
            "grid_auto_rows": null,
            "grid_column": null,
            "grid_gap": null,
            "grid_row": null,
            "grid_template_areas": null,
            "grid_template_columns": null,
            "grid_template_rows": null,
            "height": null,
            "justify_content": null,
            "justify_items": null,
            "left": null,
            "margin": null,
            "max_height": null,
            "max_width": null,
            "min_height": null,
            "min_width": null,
            "object_fit": null,
            "object_position": null,
            "order": null,
            "overflow": null,
            "overflow_x": null,
            "overflow_y": null,
            "padding": null,
            "right": null,
            "top": null,
            "visibility": null,
            "width": null
          }
        },
        "18a1b6b1b73346a5ab5d0385c5bfe69b": {
          "model_module": "@jupyter-widgets/controls",
          "model_name": "ProgressStyleModel",
          "model_module_version": "1.5.0",
          "state": {
            "_model_module": "@jupyter-widgets/controls",
            "_model_module_version": "1.5.0",
            "_model_name": "ProgressStyleModel",
            "_view_count": null,
            "_view_module": "@jupyter-widgets/base",
            "_view_module_version": "1.2.0",
            "_view_name": "StyleView",
            "bar_color": null,
            "description_width": ""
          }
        },
        "6fb2eb2426764a31a30f732a296fcb38": {
          "model_module": "@jupyter-widgets/base",
          "model_name": "LayoutModel",
          "model_module_version": "1.2.0",
          "state": {
            "_model_module": "@jupyter-widgets/base",
            "_model_module_version": "1.2.0",
            "_model_name": "LayoutModel",
            "_view_count": null,
            "_view_module": "@jupyter-widgets/base",
            "_view_module_version": "1.2.0",
            "_view_name": "LayoutView",
            "align_content": null,
            "align_items": null,
            "align_self": null,
            "border": null,
            "bottom": null,
            "display": null,
            "flex": null,
            "flex_flow": null,
            "grid_area": null,
            "grid_auto_columns": null,
            "grid_auto_flow": null,
            "grid_auto_rows": null,
            "grid_column": null,
            "grid_gap": null,
            "grid_row": null,
            "grid_template_areas": null,
            "grid_template_columns": null,
            "grid_template_rows": null,
            "height": null,
            "justify_content": null,
            "justify_items": null,
            "left": null,
            "margin": null,
            "max_height": null,
            "max_width": null,
            "min_height": null,
            "min_width": null,
            "object_fit": null,
            "object_position": null,
            "order": null,
            "overflow": null,
            "overflow_x": null,
            "overflow_y": null,
            "padding": null,
            "right": null,
            "top": null,
            "visibility": null,
            "width": null
          }
        },
        "3b8b6c60bd9b44c891e6f1bcec14d1ee": {
          "model_module": "@jupyter-widgets/controls",
          "model_name": "DescriptionStyleModel",
          "model_module_version": "1.5.0",
          "state": {
            "_model_module": "@jupyter-widgets/controls",
            "_model_module_version": "1.5.0",
            "_model_name": "DescriptionStyleModel",
            "_view_count": null,
            "_view_module": "@jupyter-widgets/base",
            "_view_module_version": "1.2.0",
            "_view_name": "StyleView",
            "description_width": ""
          }
        },
        "e99e603af9364bd08c6c7419d353a52a": {
          "model_module": "@jupyter-widgets/controls",
          "model_name": "HBoxModel",
          "model_module_version": "1.5.0",
          "state": {
            "_dom_classes": [],
            "_model_module": "@jupyter-widgets/controls",
            "_model_module_version": "1.5.0",
            "_model_name": "HBoxModel",
            "_view_count": null,
            "_view_module": "@jupyter-widgets/controls",
            "_view_module_version": "1.5.0",
            "_view_name": "HBoxView",
            "box_style": "",
            "children": [
              "IPY_MODEL_0cc038226433444292a7e33e9788af0c",
              "IPY_MODEL_2e5e35521c924939bfa8aaaff98d6c42",
              "IPY_MODEL_8eeaf143bb4d4b89828bb4de15273ff5"
            ],
            "layout": "IPY_MODEL_01d2b4ad46e64d328e6674b724cb8e69"
          }
        },
        "0cc038226433444292a7e33e9788af0c": {
          "model_module": "@jupyter-widgets/controls",
          "model_name": "HTMLModel",
          "model_module_version": "1.5.0",
          "state": {
            "_dom_classes": [],
            "_model_module": "@jupyter-widgets/controls",
            "_model_module_version": "1.5.0",
            "_model_name": "HTMLModel",
            "_view_count": null,
            "_view_module": "@jupyter-widgets/controls",
            "_view_module_version": "1.5.0",
            "_view_name": "HTMLView",
            "description": "",
            "description_tooltip": null,
            "layout": "IPY_MODEL_7668f9bdafe34e96bd422e02e397f107",
            "placeholder": "​",
            "style": "IPY_MODEL_dafa9822dc8f4f25bdaf1034293cfd7e",
            "value": "Downloading (…)lve/main/config.json: 100%"
          }
        },
        "2e5e35521c924939bfa8aaaff98d6c42": {
          "model_module": "@jupyter-widgets/controls",
          "model_name": "FloatProgressModel",
          "model_module_version": "1.5.0",
          "state": {
            "_dom_classes": [],
            "_model_module": "@jupyter-widgets/controls",
            "_model_module_version": "1.5.0",
            "_model_name": "FloatProgressModel",
            "_view_count": null,
            "_view_module": "@jupyter-widgets/controls",
            "_view_module_version": "1.5.0",
            "_view_name": "ProgressView",
            "bar_style": "success",
            "description": "",
            "description_tooltip": null,
            "layout": "IPY_MODEL_e408871823434612a0a8992da54825db",
            "max": 385,
            "min": 0,
            "orientation": "horizontal",
            "style": "IPY_MODEL_993837bcc1144cdb88237aad707b3e52",
            "value": 385
          }
        },
        "8eeaf143bb4d4b89828bb4de15273ff5": {
          "model_module": "@jupyter-widgets/controls",
          "model_name": "HTMLModel",
          "model_module_version": "1.5.0",
          "state": {
            "_dom_classes": [],
            "_model_module": "@jupyter-widgets/controls",
            "_model_module_version": "1.5.0",
            "_model_name": "HTMLModel",
            "_view_count": null,
            "_view_module": "@jupyter-widgets/controls",
            "_view_module_version": "1.5.0",
            "_view_name": "HTMLView",
            "description": "",
            "description_tooltip": null,
            "layout": "IPY_MODEL_03b3c644e4644aa4bb9d0bfc9fa3fa99",
            "placeholder": "​",
            "style": "IPY_MODEL_8a21017275ff4660b491bb46101ddb59",
            "value": " 385/385 [00:00&lt;00:00, 14.7kB/s]"
          }
        },
        "01d2b4ad46e64d328e6674b724cb8e69": {
          "model_module": "@jupyter-widgets/base",
          "model_name": "LayoutModel",
          "model_module_version": "1.2.0",
          "state": {
            "_model_module": "@jupyter-widgets/base",
            "_model_module_version": "1.2.0",
            "_model_name": "LayoutModel",
            "_view_count": null,
            "_view_module": "@jupyter-widgets/base",
            "_view_module_version": "1.2.0",
            "_view_name": "LayoutView",
            "align_content": null,
            "align_items": null,
            "align_self": null,
            "border": null,
            "bottom": null,
            "display": null,
            "flex": null,
            "flex_flow": null,
            "grid_area": null,
            "grid_auto_columns": null,
            "grid_auto_flow": null,
            "grid_auto_rows": null,
            "grid_column": null,
            "grid_gap": null,
            "grid_row": null,
            "grid_template_areas": null,
            "grid_template_columns": null,
            "grid_template_rows": null,
            "height": null,
            "justify_content": null,
            "justify_items": null,
            "left": null,
            "margin": null,
            "max_height": null,
            "max_width": null,
            "min_height": null,
            "min_width": null,
            "object_fit": null,
            "object_position": null,
            "order": null,
            "overflow": null,
            "overflow_x": null,
            "overflow_y": null,
            "padding": null,
            "right": null,
            "top": null,
            "visibility": null,
            "width": null
          }
        },
        "7668f9bdafe34e96bd422e02e397f107": {
          "model_module": "@jupyter-widgets/base",
          "model_name": "LayoutModel",
          "model_module_version": "1.2.0",
          "state": {
            "_model_module": "@jupyter-widgets/base",
            "_model_module_version": "1.2.0",
            "_model_name": "LayoutModel",
            "_view_count": null,
            "_view_module": "@jupyter-widgets/base",
            "_view_module_version": "1.2.0",
            "_view_name": "LayoutView",
            "align_content": null,
            "align_items": null,
            "align_self": null,
            "border": null,
            "bottom": null,
            "display": null,
            "flex": null,
            "flex_flow": null,
            "grid_area": null,
            "grid_auto_columns": null,
            "grid_auto_flow": null,
            "grid_auto_rows": null,
            "grid_column": null,
            "grid_gap": null,
            "grid_row": null,
            "grid_template_areas": null,
            "grid_template_columns": null,
            "grid_template_rows": null,
            "height": null,
            "justify_content": null,
            "justify_items": null,
            "left": null,
            "margin": null,
            "max_height": null,
            "max_width": null,
            "min_height": null,
            "min_width": null,
            "object_fit": null,
            "object_position": null,
            "order": null,
            "overflow": null,
            "overflow_x": null,
            "overflow_y": null,
            "padding": null,
            "right": null,
            "top": null,
            "visibility": null,
            "width": null
          }
        },
        "dafa9822dc8f4f25bdaf1034293cfd7e": {
          "model_module": "@jupyter-widgets/controls",
          "model_name": "DescriptionStyleModel",
          "model_module_version": "1.5.0",
          "state": {
            "_model_module": "@jupyter-widgets/controls",
            "_model_module_version": "1.5.0",
            "_model_name": "DescriptionStyleModel",
            "_view_count": null,
            "_view_module": "@jupyter-widgets/base",
            "_view_module_version": "1.2.0",
            "_view_name": "StyleView",
            "description_width": ""
          }
        },
        "e408871823434612a0a8992da54825db": {
          "model_module": "@jupyter-widgets/base",
          "model_name": "LayoutModel",
          "model_module_version": "1.2.0",
          "state": {
            "_model_module": "@jupyter-widgets/base",
            "_model_module_version": "1.2.0",
            "_model_name": "LayoutModel",
            "_view_count": null,
            "_view_module": "@jupyter-widgets/base",
            "_view_module_version": "1.2.0",
            "_view_name": "LayoutView",
            "align_content": null,
            "align_items": null,
            "align_self": null,
            "border": null,
            "bottom": null,
            "display": null,
            "flex": null,
            "flex_flow": null,
            "grid_area": null,
            "grid_auto_columns": null,
            "grid_auto_flow": null,
            "grid_auto_rows": null,
            "grid_column": null,
            "grid_gap": null,
            "grid_row": null,
            "grid_template_areas": null,
            "grid_template_columns": null,
            "grid_template_rows": null,
            "height": null,
            "justify_content": null,
            "justify_items": null,
            "left": null,
            "margin": null,
            "max_height": null,
            "max_width": null,
            "min_height": null,
            "min_width": null,
            "object_fit": null,
            "object_position": null,
            "order": null,
            "overflow": null,
            "overflow_x": null,
            "overflow_y": null,
            "padding": null,
            "right": null,
            "top": null,
            "visibility": null,
            "width": null
          }
        },
        "993837bcc1144cdb88237aad707b3e52": {
          "model_module": "@jupyter-widgets/controls",
          "model_name": "ProgressStyleModel",
          "model_module_version": "1.5.0",
          "state": {
            "_model_module": "@jupyter-widgets/controls",
            "_model_module_version": "1.5.0",
            "_model_name": "ProgressStyleModel",
            "_view_count": null,
            "_view_module": "@jupyter-widgets/base",
            "_view_module_version": "1.2.0",
            "_view_name": "StyleView",
            "bar_color": null,
            "description_width": ""
          }
        },
        "03b3c644e4644aa4bb9d0bfc9fa3fa99": {
          "model_module": "@jupyter-widgets/base",
          "model_name": "LayoutModel",
          "model_module_version": "1.2.0",
          "state": {
            "_model_module": "@jupyter-widgets/base",
            "_model_module_version": "1.2.0",
            "_model_name": "LayoutModel",
            "_view_count": null,
            "_view_module": "@jupyter-widgets/base",
            "_view_module_version": "1.2.0",
            "_view_name": "LayoutView",
            "align_content": null,
            "align_items": null,
            "align_self": null,
            "border": null,
            "bottom": null,
            "display": null,
            "flex": null,
            "flex_flow": null,
            "grid_area": null,
            "grid_auto_columns": null,
            "grid_auto_flow": null,
            "grid_auto_rows": null,
            "grid_column": null,
            "grid_gap": null,
            "grid_row": null,
            "grid_template_areas": null,
            "grid_template_columns": null,
            "grid_template_rows": null,
            "height": null,
            "justify_content": null,
            "justify_items": null,
            "left": null,
            "margin": null,
            "max_height": null,
            "max_width": null,
            "min_height": null,
            "min_width": null,
            "object_fit": null,
            "object_position": null,
            "order": null,
            "overflow": null,
            "overflow_x": null,
            "overflow_y": null,
            "padding": null,
            "right": null,
            "top": null,
            "visibility": null,
            "width": null
          }
        },
        "8a21017275ff4660b491bb46101ddb59": {
          "model_module": "@jupyter-widgets/controls",
          "model_name": "DescriptionStyleModel",
          "model_module_version": "1.5.0",
          "state": {
            "_model_module": "@jupyter-widgets/controls",
            "_model_module_version": "1.5.0",
            "_model_name": "DescriptionStyleModel",
            "_view_count": null,
            "_view_module": "@jupyter-widgets/base",
            "_view_module_version": "1.2.0",
            "_view_name": "StyleView",
            "description_width": ""
          }
        },
        "b9a882fef7024391b5f915bec0e1d00e": {
          "model_module": "@jupyter-widgets/controls",
          "model_name": "HBoxModel",
          "model_module_version": "1.5.0",
          "state": {
            "_dom_classes": [],
            "_model_module": "@jupyter-widgets/controls",
            "_model_module_version": "1.5.0",
            "_model_name": "HBoxModel",
            "_view_count": null,
            "_view_module": "@jupyter-widgets/controls",
            "_view_module_version": "1.5.0",
            "_view_name": "HBoxView",
            "box_style": "",
            "children": [
              "IPY_MODEL_2e46f4f9da3e4c80af0bcd02d6a196fe",
              "IPY_MODEL_33b1548e307d4a5ba822068cda15af1f",
              "IPY_MODEL_68b2c7b97a904027b43787d620b88d23"
            ],
            "layout": "IPY_MODEL_c8838df49f2144cbb07763d1c75cc01f"
          }
        },
        "2e46f4f9da3e4c80af0bcd02d6a196fe": {
          "model_module": "@jupyter-widgets/controls",
          "model_name": "HTMLModel",
          "model_module_version": "1.5.0",
          "state": {
            "_dom_classes": [],
            "_model_module": "@jupyter-widgets/controls",
            "_model_module_version": "1.5.0",
            "_model_name": "HTMLModel",
            "_view_count": null,
            "_view_module": "@jupyter-widgets/controls",
            "_view_module_version": "1.5.0",
            "_view_name": "HTMLView",
            "description": "",
            "description_tooltip": null,
            "layout": "IPY_MODEL_264eed8285e643538dc427cef2c42784",
            "placeholder": "​",
            "style": "IPY_MODEL_fe6652f17b724e27aee50a5f1de10adc",
            "value": "Downloading (…)solve/main/vocab.txt: 100%"
          }
        },
        "33b1548e307d4a5ba822068cda15af1f": {
          "model_module": "@jupyter-widgets/controls",
          "model_name": "FloatProgressModel",
          "model_module_version": "1.5.0",
          "state": {
            "_dom_classes": [],
            "_model_module": "@jupyter-widgets/controls",
            "_model_module_version": "1.5.0",
            "_model_name": "FloatProgressModel",
            "_view_count": null,
            "_view_module": "@jupyter-widgets/controls",
            "_view_module_version": "1.5.0",
            "_view_name": "ProgressView",
            "bar_style": "success",
            "description": "",
            "description_tooltip": null,
            "layout": "IPY_MODEL_a6b33be1e6144d86b42beea5423d349e",
            "max": 262620,
            "min": 0,
            "orientation": "horizontal",
            "style": "IPY_MODEL_c6a62241501642a19e145280077a49f7",
            "value": 262620
          }
        },
        "68b2c7b97a904027b43787d620b88d23": {
          "model_module": "@jupyter-widgets/controls",
          "model_name": "HTMLModel",
          "model_module_version": "1.5.0",
          "state": {
            "_dom_classes": [],
            "_model_module": "@jupyter-widgets/controls",
            "_model_module_version": "1.5.0",
            "_model_name": "HTMLModel",
            "_view_count": null,
            "_view_module": "@jupyter-widgets/controls",
            "_view_module_version": "1.5.0",
            "_view_name": "HTMLView",
            "description": "",
            "description_tooltip": null,
            "layout": "IPY_MODEL_a883b8144d7d4c418cd80e537b6e8081",
            "placeholder": "​",
            "style": "IPY_MODEL_0282b7817ec543e494a0fa3b9c8b561d",
            "value": " 263k/263k [00:00&lt;00:00, 2.10MB/s]"
          }
        },
        "c8838df49f2144cbb07763d1c75cc01f": {
          "model_module": "@jupyter-widgets/base",
          "model_name": "LayoutModel",
          "model_module_version": "1.2.0",
          "state": {
            "_model_module": "@jupyter-widgets/base",
            "_model_module_version": "1.2.0",
            "_model_name": "LayoutModel",
            "_view_count": null,
            "_view_module": "@jupyter-widgets/base",
            "_view_module_version": "1.2.0",
            "_view_name": "LayoutView",
            "align_content": null,
            "align_items": null,
            "align_self": null,
            "border": null,
            "bottom": null,
            "display": null,
            "flex": null,
            "flex_flow": null,
            "grid_area": null,
            "grid_auto_columns": null,
            "grid_auto_flow": null,
            "grid_auto_rows": null,
            "grid_column": null,
            "grid_gap": null,
            "grid_row": null,
            "grid_template_areas": null,
            "grid_template_columns": null,
            "grid_template_rows": null,
            "height": null,
            "justify_content": null,
            "justify_items": null,
            "left": null,
            "margin": null,
            "max_height": null,
            "max_width": null,
            "min_height": null,
            "min_width": null,
            "object_fit": null,
            "object_position": null,
            "order": null,
            "overflow": null,
            "overflow_x": null,
            "overflow_y": null,
            "padding": null,
            "right": null,
            "top": null,
            "visibility": null,
            "width": null
          }
        },
        "264eed8285e643538dc427cef2c42784": {
          "model_module": "@jupyter-widgets/base",
          "model_name": "LayoutModel",
          "model_module_version": "1.2.0",
          "state": {
            "_model_module": "@jupyter-widgets/base",
            "_model_module_version": "1.2.0",
            "_model_name": "LayoutModel",
            "_view_count": null,
            "_view_module": "@jupyter-widgets/base",
            "_view_module_version": "1.2.0",
            "_view_name": "LayoutView",
            "align_content": null,
            "align_items": null,
            "align_self": null,
            "border": null,
            "bottom": null,
            "display": null,
            "flex": null,
            "flex_flow": null,
            "grid_area": null,
            "grid_auto_columns": null,
            "grid_auto_flow": null,
            "grid_auto_rows": null,
            "grid_column": null,
            "grid_gap": null,
            "grid_row": null,
            "grid_template_areas": null,
            "grid_template_columns": null,
            "grid_template_rows": null,
            "height": null,
            "justify_content": null,
            "justify_items": null,
            "left": null,
            "margin": null,
            "max_height": null,
            "max_width": null,
            "min_height": null,
            "min_width": null,
            "object_fit": null,
            "object_position": null,
            "order": null,
            "overflow": null,
            "overflow_x": null,
            "overflow_y": null,
            "padding": null,
            "right": null,
            "top": null,
            "visibility": null,
            "width": null
          }
        },
        "fe6652f17b724e27aee50a5f1de10adc": {
          "model_module": "@jupyter-widgets/controls",
          "model_name": "DescriptionStyleModel",
          "model_module_version": "1.5.0",
          "state": {
            "_model_module": "@jupyter-widgets/controls",
            "_model_module_version": "1.5.0",
            "_model_name": "DescriptionStyleModel",
            "_view_count": null,
            "_view_module": "@jupyter-widgets/base",
            "_view_module_version": "1.2.0",
            "_view_name": "StyleView",
            "description_width": ""
          }
        },
        "a6b33be1e6144d86b42beea5423d349e": {
          "model_module": "@jupyter-widgets/base",
          "model_name": "LayoutModel",
          "model_module_version": "1.2.0",
          "state": {
            "_model_module": "@jupyter-widgets/base",
            "_model_module_version": "1.2.0",
            "_model_name": "LayoutModel",
            "_view_count": null,
            "_view_module": "@jupyter-widgets/base",
            "_view_module_version": "1.2.0",
            "_view_name": "LayoutView",
            "align_content": null,
            "align_items": null,
            "align_self": null,
            "border": null,
            "bottom": null,
            "display": null,
            "flex": null,
            "flex_flow": null,
            "grid_area": null,
            "grid_auto_columns": null,
            "grid_auto_flow": null,
            "grid_auto_rows": null,
            "grid_column": null,
            "grid_gap": null,
            "grid_row": null,
            "grid_template_areas": null,
            "grid_template_columns": null,
            "grid_template_rows": null,
            "height": null,
            "justify_content": null,
            "justify_items": null,
            "left": null,
            "margin": null,
            "max_height": null,
            "max_width": null,
            "min_height": null,
            "min_width": null,
            "object_fit": null,
            "object_position": null,
            "order": null,
            "overflow": null,
            "overflow_x": null,
            "overflow_y": null,
            "padding": null,
            "right": null,
            "top": null,
            "visibility": null,
            "width": null
          }
        },
        "c6a62241501642a19e145280077a49f7": {
          "model_module": "@jupyter-widgets/controls",
          "model_name": "ProgressStyleModel",
          "model_module_version": "1.5.0",
          "state": {
            "_model_module": "@jupyter-widgets/controls",
            "_model_module_version": "1.5.0",
            "_model_name": "ProgressStyleModel",
            "_view_count": null,
            "_view_module": "@jupyter-widgets/base",
            "_view_module_version": "1.2.0",
            "_view_name": "StyleView",
            "bar_color": null,
            "description_width": ""
          }
        },
        "a883b8144d7d4c418cd80e537b6e8081": {
          "model_module": "@jupyter-widgets/base",
          "model_name": "LayoutModel",
          "model_module_version": "1.2.0",
          "state": {
            "_model_module": "@jupyter-widgets/base",
            "_model_module_version": "1.2.0",
            "_model_name": "LayoutModel",
            "_view_count": null,
            "_view_module": "@jupyter-widgets/base",
            "_view_module_version": "1.2.0",
            "_view_name": "LayoutView",
            "align_content": null,
            "align_items": null,
            "align_self": null,
            "border": null,
            "bottom": null,
            "display": null,
            "flex": null,
            "flex_flow": null,
            "grid_area": null,
            "grid_auto_columns": null,
            "grid_auto_flow": null,
            "grid_auto_rows": null,
            "grid_column": null,
            "grid_gap": null,
            "grid_row": null,
            "grid_template_areas": null,
            "grid_template_columns": null,
            "grid_template_rows": null,
            "height": null,
            "justify_content": null,
            "justify_items": null,
            "left": null,
            "margin": null,
            "max_height": null,
            "max_width": null,
            "min_height": null,
            "min_width": null,
            "object_fit": null,
            "object_position": null,
            "order": null,
            "overflow": null,
            "overflow_x": null,
            "overflow_y": null,
            "padding": null,
            "right": null,
            "top": null,
            "visibility": null,
            "width": null
          }
        },
        "0282b7817ec543e494a0fa3b9c8b561d": {
          "model_module": "@jupyter-widgets/controls",
          "model_name": "DescriptionStyleModel",
          "model_module_version": "1.5.0",
          "state": {
            "_model_module": "@jupyter-widgets/controls",
            "_model_module_version": "1.5.0",
            "_model_name": "DescriptionStyleModel",
            "_view_count": null,
            "_view_module": "@jupyter-widgets/base",
            "_view_module_version": "1.2.0",
            "_view_name": "StyleView",
            "description_width": ""
          }
        }
      }
    }
  },
  "nbformat": 4,
  "nbformat_minor": 0
}